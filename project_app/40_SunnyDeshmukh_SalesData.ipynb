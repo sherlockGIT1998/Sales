{
 "cells": [
  {
   "cell_type": "markdown",
   "id": "57c69357",
   "metadata": {},
   "source": [
    "# LINEAR REGRESSION- SALES DATA"
   ]
  },
  {
   "cell_type": "code",
   "execution_count": 1,
   "id": "72fb119d",
   "metadata": {},
   "outputs": [],
   "source": [
    "import numpy as np\n",
    "import pandas as pd\n",
    "\n",
    "# Visualization\n",
    "import matplotlib.pyplot as plt\n",
    "import seaborn as sns\n",
    "\n",
    "# Feature Selection\n",
    "from statsmodels.stats.outliers_influence import variance_inflation_factor\n",
    "\n",
    "# Model Building\n",
    "from sklearn.model_selection import train_test_split,GridSearchCV,RandomizedSearchCV\n",
    "from sklearn.linear_model import LinearRegression,Ridge,Lasso\n",
    "\n",
    "# Evaluation Metrics\n",
    "from sklearn.metrics import mean_absolute_error, mean_squared_error, r2_score\n",
    "\n",
    "from scipy.stats import shapiro,kstest,normaltest\n",
    "import statsmodels.api as sm\n",
    "\n",
    "# To avoid warning\n",
    "import warnings\n",
    "warnings.filterwarnings(\"ignore\")"
   ]
  },
  {
   "cell_type": "markdown",
   "id": "98553533",
   "metadata": {},
   "source": [
    "# PROBLEM STATEMENT :-"
   ]
  },
  {
   "cell_type": "raw",
   "id": "a4563302",
   "metadata": {},
   "source": [
    "The GOAL is to build a Linear Regression Model of Supervised Machine Learning that can accurately predict the total SALES of an ITEM in a givenby outlates or store."
   ]
  },
  {
   "cell_type": "markdown",
   "id": "eb442780",
   "metadata": {},
   "source": [
    "# DATA GATHERING :-"
   ]
  },
  {
   "cell_type": "code",
   "execution_count": 2,
   "id": "d60ace51",
   "metadata": {},
   "outputs": [
    {
     "data": {
      "text/html": [
       "<div>\n",
       "<style scoped>\n",
       "    .dataframe tbody tr th:only-of-type {\n",
       "        vertical-align: middle;\n",
       "    }\n",
       "\n",
       "    .dataframe tbody tr th {\n",
       "        vertical-align: top;\n",
       "    }\n",
       "\n",
       "    .dataframe thead th {\n",
       "        text-align: right;\n",
       "    }\n",
       "</style>\n",
       "<table border=\"1\" class=\"dataframe\">\n",
       "  <thead>\n",
       "    <tr style=\"text-align: right;\">\n",
       "      <th></th>\n",
       "      <th>Item_Identifier</th>\n",
       "      <th>Item_Weight</th>\n",
       "      <th>Item_Fat_Content</th>\n",
       "      <th>Item_Visibility</th>\n",
       "      <th>Item_Type</th>\n",
       "      <th>Item_MRP</th>\n",
       "      <th>Outlet_Identifier</th>\n",
       "      <th>Outlet_Establishment_Year</th>\n",
       "      <th>Outlet_Size</th>\n",
       "      <th>Outlet_Location_Type</th>\n",
       "      <th>Outlet_Type</th>\n",
       "      <th>Item_Outlet_Sales</th>\n",
       "    </tr>\n",
       "  </thead>\n",
       "  <tbody>\n",
       "    <tr>\n",
       "      <th>0</th>\n",
       "      <td>FDA15</td>\n",
       "      <td>9.300</td>\n",
       "      <td>Low Fat</td>\n",
       "      <td>0.016047</td>\n",
       "      <td>Dairy</td>\n",
       "      <td>249.8092</td>\n",
       "      <td>OUT049</td>\n",
       "      <td>1999</td>\n",
       "      <td>Medium</td>\n",
       "      <td>Tier 1</td>\n",
       "      <td>Supermarket Type1</td>\n",
       "      <td>3735.1380</td>\n",
       "    </tr>\n",
       "    <tr>\n",
       "      <th>1</th>\n",
       "      <td>DRC01</td>\n",
       "      <td>5.920</td>\n",
       "      <td>Regular</td>\n",
       "      <td>0.019278</td>\n",
       "      <td>Soft Drinks</td>\n",
       "      <td>48.2692</td>\n",
       "      <td>OUT018</td>\n",
       "      <td>2009</td>\n",
       "      <td>Medium</td>\n",
       "      <td>Tier 3</td>\n",
       "      <td>Supermarket Type2</td>\n",
       "      <td>443.4228</td>\n",
       "    </tr>\n",
       "    <tr>\n",
       "      <th>2</th>\n",
       "      <td>FDN15</td>\n",
       "      <td>17.500</td>\n",
       "      <td>Low Fat</td>\n",
       "      <td>0.016760</td>\n",
       "      <td>Meat</td>\n",
       "      <td>141.6180</td>\n",
       "      <td>OUT049</td>\n",
       "      <td>1999</td>\n",
       "      <td>Medium</td>\n",
       "      <td>Tier 1</td>\n",
       "      <td>Supermarket Type1</td>\n",
       "      <td>2097.2700</td>\n",
       "    </tr>\n",
       "    <tr>\n",
       "      <th>3</th>\n",
       "      <td>FDX07</td>\n",
       "      <td>19.200</td>\n",
       "      <td>Regular</td>\n",
       "      <td>0.000000</td>\n",
       "      <td>Fruits and Vegetables</td>\n",
       "      <td>182.0950</td>\n",
       "      <td>OUT010</td>\n",
       "      <td>1998</td>\n",
       "      <td>NaN</td>\n",
       "      <td>Tier 3</td>\n",
       "      <td>Grocery Store</td>\n",
       "      <td>732.3800</td>\n",
       "    </tr>\n",
       "    <tr>\n",
       "      <th>4</th>\n",
       "      <td>NCD19</td>\n",
       "      <td>8.930</td>\n",
       "      <td>Low Fat</td>\n",
       "      <td>0.000000</td>\n",
       "      <td>Household</td>\n",
       "      <td>53.8614</td>\n",
       "      <td>OUT013</td>\n",
       "      <td>1987</td>\n",
       "      <td>High</td>\n",
       "      <td>Tier 3</td>\n",
       "      <td>Supermarket Type1</td>\n",
       "      <td>994.7052</td>\n",
       "    </tr>\n",
       "    <tr>\n",
       "      <th>...</th>\n",
       "      <td>...</td>\n",
       "      <td>...</td>\n",
       "      <td>...</td>\n",
       "      <td>...</td>\n",
       "      <td>...</td>\n",
       "      <td>...</td>\n",
       "      <td>...</td>\n",
       "      <td>...</td>\n",
       "      <td>...</td>\n",
       "      <td>...</td>\n",
       "      <td>...</td>\n",
       "      <td>...</td>\n",
       "    </tr>\n",
       "    <tr>\n",
       "      <th>8518</th>\n",
       "      <td>FDF22</td>\n",
       "      <td>6.865</td>\n",
       "      <td>Low Fat</td>\n",
       "      <td>0.056783</td>\n",
       "      <td>Snack Foods</td>\n",
       "      <td>214.5218</td>\n",
       "      <td>OUT013</td>\n",
       "      <td>1987</td>\n",
       "      <td>High</td>\n",
       "      <td>Tier 3</td>\n",
       "      <td>Supermarket Type1</td>\n",
       "      <td>2778.3834</td>\n",
       "    </tr>\n",
       "    <tr>\n",
       "      <th>8519</th>\n",
       "      <td>FDS36</td>\n",
       "      <td>8.380</td>\n",
       "      <td>Regular</td>\n",
       "      <td>0.046982</td>\n",
       "      <td>Baking Goods</td>\n",
       "      <td>108.1570</td>\n",
       "      <td>OUT045</td>\n",
       "      <td>2002</td>\n",
       "      <td>NaN</td>\n",
       "      <td>Tier 2</td>\n",
       "      <td>Supermarket Type1</td>\n",
       "      <td>549.2850</td>\n",
       "    </tr>\n",
       "    <tr>\n",
       "      <th>8520</th>\n",
       "      <td>NCJ29</td>\n",
       "      <td>10.600</td>\n",
       "      <td>Low Fat</td>\n",
       "      <td>0.035186</td>\n",
       "      <td>Health and Hygiene</td>\n",
       "      <td>85.1224</td>\n",
       "      <td>OUT035</td>\n",
       "      <td>2004</td>\n",
       "      <td>Small</td>\n",
       "      <td>Tier 2</td>\n",
       "      <td>Supermarket Type1</td>\n",
       "      <td>1193.1136</td>\n",
       "    </tr>\n",
       "    <tr>\n",
       "      <th>8521</th>\n",
       "      <td>FDN46</td>\n",
       "      <td>7.210</td>\n",
       "      <td>Regular</td>\n",
       "      <td>0.145221</td>\n",
       "      <td>Snack Foods</td>\n",
       "      <td>103.1332</td>\n",
       "      <td>OUT018</td>\n",
       "      <td>2009</td>\n",
       "      <td>Medium</td>\n",
       "      <td>Tier 3</td>\n",
       "      <td>Supermarket Type2</td>\n",
       "      <td>1845.5976</td>\n",
       "    </tr>\n",
       "    <tr>\n",
       "      <th>8522</th>\n",
       "      <td>DRG01</td>\n",
       "      <td>14.800</td>\n",
       "      <td>Low Fat</td>\n",
       "      <td>0.044878</td>\n",
       "      <td>Soft Drinks</td>\n",
       "      <td>75.4670</td>\n",
       "      <td>OUT046</td>\n",
       "      <td>1997</td>\n",
       "      <td>Small</td>\n",
       "      <td>Tier 1</td>\n",
       "      <td>Supermarket Type1</td>\n",
       "      <td>765.6700</td>\n",
       "    </tr>\n",
       "  </tbody>\n",
       "</table>\n",
       "<p>8523 rows × 12 columns</p>\n",
       "</div>"
      ],
      "text/plain": [
       "     Item_Identifier  Item_Weight Item_Fat_Content  Item_Visibility  \\\n",
       "0              FDA15        9.300          Low Fat         0.016047   \n",
       "1              DRC01        5.920          Regular         0.019278   \n",
       "2              FDN15       17.500          Low Fat         0.016760   \n",
       "3              FDX07       19.200          Regular         0.000000   \n",
       "4              NCD19        8.930          Low Fat         0.000000   \n",
       "...              ...          ...              ...              ...   \n",
       "8518           FDF22        6.865          Low Fat         0.056783   \n",
       "8519           FDS36        8.380          Regular         0.046982   \n",
       "8520           NCJ29       10.600          Low Fat         0.035186   \n",
       "8521           FDN46        7.210          Regular         0.145221   \n",
       "8522           DRG01       14.800          Low Fat         0.044878   \n",
       "\n",
       "                  Item_Type  Item_MRP Outlet_Identifier  \\\n",
       "0                     Dairy  249.8092            OUT049   \n",
       "1               Soft Drinks   48.2692            OUT018   \n",
       "2                      Meat  141.6180            OUT049   \n",
       "3     Fruits and Vegetables  182.0950            OUT010   \n",
       "4                 Household   53.8614            OUT013   \n",
       "...                     ...       ...               ...   \n",
       "8518            Snack Foods  214.5218            OUT013   \n",
       "8519           Baking Goods  108.1570            OUT045   \n",
       "8520     Health and Hygiene   85.1224            OUT035   \n",
       "8521            Snack Foods  103.1332            OUT018   \n",
       "8522            Soft Drinks   75.4670            OUT046   \n",
       "\n",
       "      Outlet_Establishment_Year Outlet_Size Outlet_Location_Type  \\\n",
       "0                          1999      Medium               Tier 1   \n",
       "1                          2009      Medium               Tier 3   \n",
       "2                          1999      Medium               Tier 1   \n",
       "3                          1998         NaN               Tier 3   \n",
       "4                          1987        High               Tier 3   \n",
       "...                         ...         ...                  ...   \n",
       "8518                       1987        High               Tier 3   \n",
       "8519                       2002         NaN               Tier 2   \n",
       "8520                       2004       Small               Tier 2   \n",
       "8521                       2009      Medium               Tier 3   \n",
       "8522                       1997       Small               Tier 1   \n",
       "\n",
       "            Outlet_Type  Item_Outlet_Sales  \n",
       "0     Supermarket Type1          3735.1380  \n",
       "1     Supermarket Type2           443.4228  \n",
       "2     Supermarket Type1          2097.2700  \n",
       "3         Grocery Store           732.3800  \n",
       "4     Supermarket Type1           994.7052  \n",
       "...                 ...                ...  \n",
       "8518  Supermarket Type1          2778.3834  \n",
       "8519  Supermarket Type1           549.2850  \n",
       "8520  Supermarket Type1          1193.1136  \n",
       "8521  Supermarket Type2          1845.5976  \n",
       "8522  Supermarket Type1           765.6700  \n",
       "\n",
       "[8523 rows x 12 columns]"
      ]
     },
     "execution_count": 2,
     "metadata": {},
     "output_type": "execute_result"
    }
   ],
   "source": [
    "df = pd.read_csv(\"Sales_data.csv\")\n",
    "df"
   ]
  },
  {
   "cell_type": "code",
   "execution_count": 3,
   "id": "f081989c",
   "metadata": {},
   "outputs": [],
   "source": [
    "# 8523 rows × 12 columns"
   ]
  },
  {
   "cell_type": "markdown",
   "id": "8de62499",
   "metadata": {},
   "source": [
    "# EXPLORATORY DATA ANALYSIS AND FEATURE ENGINEERING :-"
   ]
  },
  {
   "cell_type": "code",
   "execution_count": 4,
   "id": "77333f89",
   "metadata": {},
   "outputs": [
    {
     "name": "stdout",
     "output_type": "stream",
     "text": [
      "<class 'pandas.core.frame.DataFrame'>\n",
      "RangeIndex: 8523 entries, 0 to 8522\n",
      "Data columns (total 12 columns):\n",
      " #   Column                     Non-Null Count  Dtype  \n",
      "---  ------                     --------------  -----  \n",
      " 0   Item_Identifier            8523 non-null   object \n",
      " 1   Item_Weight                7060 non-null   float64\n",
      " 2   Item_Fat_Content           8523 non-null   object \n",
      " 3   Item_Visibility            8523 non-null   float64\n",
      " 4   Item_Type                  8523 non-null   object \n",
      " 5   Item_MRP                   8523 non-null   float64\n",
      " 6   Outlet_Identifier          8523 non-null   object \n",
      " 7   Outlet_Establishment_Year  8523 non-null   int64  \n",
      " 8   Outlet_Size                6113 non-null   object \n",
      " 9   Outlet_Location_Type       8523 non-null   object \n",
      " 10  Outlet_Type                8523 non-null   object \n",
      " 11  Item_Outlet_Sales          8523 non-null   float64\n",
      "dtypes: float64(4), int64(1), object(7)\n",
      "memory usage: 799.2+ KB\n"
     ]
    }
   ],
   "source": [
    "df.info()"
   ]
  },
  {
   "cell_type": "code",
   "execution_count": 5,
   "id": "57e74f37",
   "metadata": {},
   "outputs": [
    {
     "data": {
      "text/plain": [
       "Index(['Item_Identifier', 'Item_Weight', 'Item_Fat_Content', 'Item_Visibility',\n",
       "       'Item_Type', 'Item_MRP', 'Outlet_Identifier',\n",
       "       'Outlet_Establishment_Year', 'Outlet_Size', 'Outlet_Location_Type',\n",
       "       'Outlet_Type', 'Item_Outlet_Sales'],\n",
       "      dtype='object')"
      ]
     },
     "execution_count": 5,
     "metadata": {},
     "output_type": "execute_result"
    }
   ],
   "source": [
    "df.columns"
   ]
  },
  {
   "cell_type": "code",
   "execution_count": 6,
   "id": "6216cdaa",
   "metadata": {},
   "outputs": [
    {
     "data": {
      "text/plain": [
       "Item_Identifier                 0\n",
       "Item_Weight                  1463\n",
       "Item_Fat_Content                0\n",
       "Item_Visibility                 0\n",
       "Item_Type                       0\n",
       "Item_MRP                        0\n",
       "Outlet_Identifier               0\n",
       "Outlet_Establishment_Year       0\n",
       "Outlet_Size                  2410\n",
       "Outlet_Location_Type            0\n",
       "Outlet_Type                     0\n",
       "Item_Outlet_Sales               0\n",
       "dtype: int64"
      ]
     },
     "execution_count": 6,
     "metadata": {},
     "output_type": "execute_result"
    }
   ],
   "source": [
    "df.isna().sum()   # Item_Weight--> 1463  Outlet_Size--> 2410   having NAN values"
   ]
  },
  {
   "cell_type": "code",
   "execution_count": 7,
   "id": "a9ed3445",
   "metadata": {},
   "outputs": [
    {
     "name": "stdout",
     "output_type": "stream",
     "text": [
      "<class 'pandas.core.frame.DataFrame'>\n",
      "RangeIndex: 8523 entries, 0 to 8522\n",
      "Data columns (total 7 columns):\n",
      " #   Column                Non-Null Count  Dtype \n",
      "---  ------                --------------  ----- \n",
      " 0   Item_Identifier       8523 non-null   object\n",
      " 1   Item_Fat_Content      8523 non-null   object\n",
      " 2   Item_Type             8523 non-null   object\n",
      " 3   Outlet_Identifier     8523 non-null   object\n",
      " 4   Outlet_Size           6113 non-null   object\n",
      " 5   Outlet_Location_Type  8523 non-null   object\n",
      " 6   Outlet_Type           8523 non-null   object\n",
      "dtypes: object(7)\n",
      "memory usage: 466.2+ KB\n"
     ]
    }
   ],
   "source": [
    "df.select_dtypes(include=['object']).info() # need to convert all features in numerical type"
   ]
  },
  {
   "cell_type": "code",
   "execution_count": 8,
   "id": "4a69330e",
   "metadata": {},
   "outputs": [
    {
     "data": {
      "text/html": [
       "<div>\n",
       "<style scoped>\n",
       "    .dataframe tbody tr th:only-of-type {\n",
       "        vertical-align: middle;\n",
       "    }\n",
       "\n",
       "    .dataframe tbody tr th {\n",
       "        vertical-align: top;\n",
       "    }\n",
       "\n",
       "    .dataframe thead th {\n",
       "        text-align: right;\n",
       "    }\n",
       "</style>\n",
       "<table border=\"1\" class=\"dataframe\">\n",
       "  <thead>\n",
       "    <tr style=\"text-align: right;\">\n",
       "      <th></th>\n",
       "      <th>Item_Weight</th>\n",
       "      <th>Item_Visibility</th>\n",
       "      <th>Item_MRP</th>\n",
       "      <th>Outlet_Establishment_Year</th>\n",
       "      <th>Item_Outlet_Sales</th>\n",
       "    </tr>\n",
       "  </thead>\n",
       "  <tbody>\n",
       "    <tr>\n",
       "      <th>count</th>\n",
       "      <td>7060.000000</td>\n",
       "      <td>8523.000000</td>\n",
       "      <td>8523.000000</td>\n",
       "      <td>8523.000000</td>\n",
       "      <td>8523.000000</td>\n",
       "    </tr>\n",
       "    <tr>\n",
       "      <th>mean</th>\n",
       "      <td>12.857645</td>\n",
       "      <td>0.066132</td>\n",
       "      <td>140.992782</td>\n",
       "      <td>1997.831867</td>\n",
       "      <td>2181.288914</td>\n",
       "    </tr>\n",
       "    <tr>\n",
       "      <th>std</th>\n",
       "      <td>4.643456</td>\n",
       "      <td>0.051598</td>\n",
       "      <td>62.275067</td>\n",
       "      <td>8.371760</td>\n",
       "      <td>1706.499616</td>\n",
       "    </tr>\n",
       "    <tr>\n",
       "      <th>min</th>\n",
       "      <td>4.555000</td>\n",
       "      <td>0.000000</td>\n",
       "      <td>31.290000</td>\n",
       "      <td>1985.000000</td>\n",
       "      <td>33.290000</td>\n",
       "    </tr>\n",
       "    <tr>\n",
       "      <th>25%</th>\n",
       "      <td>8.773750</td>\n",
       "      <td>0.026989</td>\n",
       "      <td>93.826500</td>\n",
       "      <td>1987.000000</td>\n",
       "      <td>834.247400</td>\n",
       "    </tr>\n",
       "    <tr>\n",
       "      <th>50%</th>\n",
       "      <td>12.600000</td>\n",
       "      <td>0.053931</td>\n",
       "      <td>143.012800</td>\n",
       "      <td>1999.000000</td>\n",
       "      <td>1794.331000</td>\n",
       "    </tr>\n",
       "    <tr>\n",
       "      <th>75%</th>\n",
       "      <td>16.850000</td>\n",
       "      <td>0.094585</td>\n",
       "      <td>185.643700</td>\n",
       "      <td>2004.000000</td>\n",
       "      <td>3101.296400</td>\n",
       "    </tr>\n",
       "    <tr>\n",
       "      <th>max</th>\n",
       "      <td>21.350000</td>\n",
       "      <td>0.328391</td>\n",
       "      <td>266.888400</td>\n",
       "      <td>2009.000000</td>\n",
       "      <td>13086.964800</td>\n",
       "    </tr>\n",
       "  </tbody>\n",
       "</table>\n",
       "</div>"
      ],
      "text/plain": [
       "       Item_Weight  Item_Visibility     Item_MRP  Outlet_Establishment_Year  \\\n",
       "count  7060.000000      8523.000000  8523.000000                8523.000000   \n",
       "mean     12.857645         0.066132   140.992782                1997.831867   \n",
       "std       4.643456         0.051598    62.275067                   8.371760   \n",
       "min       4.555000         0.000000    31.290000                1985.000000   \n",
       "25%       8.773750         0.026989    93.826500                1987.000000   \n",
       "50%      12.600000         0.053931   143.012800                1999.000000   \n",
       "75%      16.850000         0.094585   185.643700                2004.000000   \n",
       "max      21.350000         0.328391   266.888400                2009.000000   \n",
       "\n",
       "       Item_Outlet_Sales  \n",
       "count        8523.000000  \n",
       "mean         2181.288914  \n",
       "std          1706.499616  \n",
       "min            33.290000  \n",
       "25%           834.247400  \n",
       "50%          1794.331000  \n",
       "75%          3101.296400  \n",
       "max         13086.964800  "
      ]
     },
     "execution_count": 8,
     "metadata": {},
     "output_type": "execute_result"
    }
   ],
   "source": [
    "df.describe()"
   ]
  },
  {
   "cell_type": "code",
   "execution_count": 9,
   "id": "ca8eccd3",
   "metadata": {},
   "outputs": [
    {
     "data": {
      "text/plain": [
       "<AxesSubplot:>"
      ]
     },
     "execution_count": 9,
     "metadata": {},
     "output_type": "execute_result"
    },
    {
     "data": {
      "image/png": "[encoded data removed]",
      "text/plain": [
       "<Figure size 1000x300 with 1 Axes>"
      ]
     },
     "metadata": {},
     "output_type": "display_data"
    }
   ],
   "source": [
    "plt.figure(figsize=(10,3))\n",
    "df.boxplot()"
   ]
  },
  {
   "cell_type": "code",
   "execution_count": 10,
   "id": "ae56badd",
   "metadata": {},
   "outputs": [],
   "source": [
    "# df.info()"
   ]
  },
  {
   "cell_type": "markdown",
   "id": "11dc75a1",
   "metadata": {},
   "source": [
    "## 1.Item_Identifier  "
   ]
  },
  {
   "cell_type": "code",
   "execution_count": 11,
   "id": "f032f487",
   "metadata": {},
   "outputs": [
    {
     "data": {
      "text/plain": [
       "0       FDA15\n",
       "1       DRC01\n",
       "2       FDN15\n",
       "3       FDX07\n",
       "4       NCD19\n",
       "        ...  \n",
       "8518    FDF22\n",
       "8519    FDS36\n",
       "8520    NCJ29\n",
       "8521    FDN46\n",
       "8522    DRG01\n",
       "Name: Item_Identifier, Length: 8523, dtype: object"
      ]
     },
     "execution_count": 11,
     "metadata": {},
     "output_type": "execute_result"
    }
   ],
   "source": [
    "df['Item_Identifier']"
   ]
  },
  {
   "cell_type": "code",
   "execution_count": 12,
   "id": "3b09ef55",
   "metadata": {},
   "outputs": [
    {
     "data": {
      "text/plain": [
       "1559"
      ]
     },
     "execution_count": 12,
     "metadata": {},
     "output_type": "execute_result"
    }
   ],
   "source": [
    "df['Item_Identifier'].nunique() # as 1559 unique values are thr....one hot encoding or labelled encoding not usefull here"
   ]
  },
  {
   "cell_type": "code",
   "execution_count": 13,
   "id": "f8db9041",
   "metadata": {},
   "outputs": [],
   "source": [
    "# Take a decision to drop this column as this feature is not directly take participate to predict sales of items\n",
    "df.drop(\"Item_Identifier\",axis=1,inplace=True)"
   ]
  },
  {
   "cell_type": "code",
   "execution_count": 14,
   "id": "7d8bee8e",
   "metadata": {},
   "outputs": [],
   "source": [
    "#  df.info()"
   ]
  },
  {
   "cell_type": "markdown",
   "id": "021b4ae4",
   "metadata": {},
   "source": [
    "# 2.Item_Weight"
   ]
  },
  {
   "cell_type": "code",
   "execution_count": 15,
   "id": "79f40dda",
   "metadata": {},
   "outputs": [
    {
     "data": {
      "text/plain": [
       "415"
      ]
     },
     "execution_count": 15,
     "metadata": {},
     "output_type": "execute_result"
    }
   ],
   "source": [
    "df['Item_Weight'].nunique()\n"
   ]
  },
  {
   "cell_type": "code",
   "execution_count": 16,
   "id": "feb64289",
   "metadata": {},
   "outputs": [
    {
     "data": {
      "text/plain": [
       "12.150    86\n",
       "17.600    82\n",
       "13.650    77\n",
       "11.800    76\n",
       "15.100    68\n",
       "          ..\n",
       "7.275      2\n",
       "7.685      1\n",
       "9.420      1\n",
       "6.520      1\n",
       "5.400      1\n",
       "Name: Item_Weight, Length: 415, dtype: int64"
      ]
     },
     "execution_count": 16,
     "metadata": {},
     "output_type": "execute_result"
    }
   ],
   "source": [
    "df['Item_Weight'].value_counts()"
   ]
  },
  {
   "cell_type": "code",
   "execution_count": 17,
   "id": "48da07a5",
   "metadata": {},
   "outputs": [
    {
     "data": {
      "text/plain": [
       "1463"
      ]
     },
     "execution_count": 17,
     "metadata": {},
     "output_type": "execute_result"
    }
   ],
   "source": [
    "df['Item_Weight'].isna().sum()   # 1463 missing values"
   ]
  },
  {
   "cell_type": "code",
   "execution_count": 18,
   "id": "3789dc69",
   "metadata": {},
   "outputs": [
    {
     "data": {
      "text/plain": [
       "12.857645184136183"
      ]
     },
     "execution_count": 18,
     "metadata": {},
     "output_type": "execute_result"
    }
   ],
   "source": [
    "df['Item_Weight'].mean()"
   ]
  },
  {
   "cell_type": "code",
   "execution_count": 19,
   "id": "99e5fee5",
   "metadata": {},
   "outputs": [
    {
     "data": {
      "text/plain": [
       "12.6"
      ]
     },
     "execution_count": 19,
     "metadata": {},
     "output_type": "execute_result"
    }
   ],
   "source": [
    "df['Item_Weight'].median()"
   ]
  },
  {
   "cell_type": "code",
   "execution_count": 20,
   "id": "f9eee5ec",
   "metadata": {},
   "outputs": [],
   "source": [
    "# Feature Engg\n",
    "df['Item_Weight'].fillna(df['Item_Weight'].mean(),inplace=True)"
   ]
  },
  {
   "cell_type": "code",
   "execution_count": 21,
   "id": "313ee06b",
   "metadata": {},
   "outputs": [
    {
     "data": {
      "text/plain": [
       "0"
      ]
     },
     "execution_count": 21,
     "metadata": {},
     "output_type": "execute_result"
    }
   ],
   "source": [
    "df['Item_Weight'].isna().sum() "
   ]
  },
  {
   "cell_type": "code",
   "execution_count": 22,
   "id": "617c54d4",
   "metadata": {},
   "outputs": [
    {
     "data": {
      "text/plain": [
       "<AxesSubplot:xlabel='Item_Weight'>"
      ]
     },
     "execution_count": 22,
     "metadata": {},
     "output_type": "execute_result"
    },
    {
     "data": {
      "image/png": "[encoded data removed]",
      "text/plain": [
       "<Figure size 500x200 with 1 Axes>"
      ]
     },
     "metadata": {},
     "output_type": "display_data"
    }
   ],
   "source": [
    "# check for outlires\n",
    "\n",
    "plt.figure(figsize=(5,2))\n",
    "sns.boxplot(x = df['Item_Weight']) # no outlires are presnt"
   ]
  },
  {
   "cell_type": "code",
   "execution_count": 23,
   "id": "b0b1f08b",
   "metadata": {},
   "outputs": [],
   "source": [
    "# df.info()"
   ]
  },
  {
   "cell_type": "markdown",
   "id": "fddfe53c",
   "metadata": {},
   "source": [
    "# 3.Item_Fat_Content"
   ]
  },
  {
   "cell_type": "code",
   "execution_count": 24,
   "id": "a5ebc6dc",
   "metadata": {},
   "outputs": [
    {
     "data": {
      "text/plain": [
       "0       Low Fat\n",
       "1       Regular\n",
       "2       Low Fat\n",
       "3       Regular\n",
       "4       Low Fat\n",
       "         ...   \n",
       "8518    Low Fat\n",
       "8519    Regular\n",
       "8520    Low Fat\n",
       "8521    Regular\n",
       "8522    Low Fat\n",
       "Name: Item_Fat_Content, Length: 8523, dtype: object"
      ]
     },
     "execution_count": 24,
     "metadata": {},
     "output_type": "execute_result"
    }
   ],
   "source": [
    "df['Item_Fat_Content']"
   ]
  },
  {
   "cell_type": "code",
   "execution_count": 25,
   "id": "7140dba7",
   "metadata": {},
   "outputs": [
    {
     "data": {
      "text/plain": [
       "array(['Low Fat', 'Regular', 'low fat', 'LF', 'reg'], dtype=object)"
      ]
     },
     "execution_count": 25,
     "metadata": {},
     "output_type": "execute_result"
    }
   ],
   "source": [
    "df['Item_Fat_Content'].unique()  # # no NAN value"
   ]
  },
  {
   "cell_type": "code",
   "execution_count": 26,
   "id": "a93ad9a0",
   "metadata": {},
   "outputs": [
    {
     "data": {
      "text/plain": [
       "{'Low Fat': 5089, 'Regular': 2889, 'LF': 316, 'reg': 117, 'low fat': 112}"
      ]
     },
     "execution_count": 26,
     "metadata": {},
     "output_type": "execute_result"
    }
   ],
   "source": [
    "df['Item_Fat_Content'].value_counts().to_dict()     "
   ]
  },
  {
   "cell_type": "code",
   "execution_count": 27,
   "id": "dc4c8cc7",
   "metadata": {},
   "outputs": [],
   "source": [
    "# Low Fat = LF = low fat        Regular = reg \n",
    "\n",
    "# labelled encoding required\n",
    "\n",
    "df['Item_Fat_Content'].replace({'Low Fat': 0, 'Regular': 1, 'LF': 0, 'reg': 1, 'low fat': 0},\n",
    "                               inplace=True)\n",
    "# df['Item_Fat_Content']"
   ]
  },
  {
   "cell_type": "code",
   "execution_count": null,
   "id": "80c53a7f",
   "metadata": {},
   "outputs": [],
   "source": []
  },
  {
   "cell_type": "code",
   "execution_count": 28,
   "id": "6925b565",
   "metadata": {},
   "outputs": [],
   "source": [
    "item_Fat_Content_select = {'Low Fat': 0, 'Regular': 1, 'LF': 0, 'reg': 1, 'low fat': 0}"
   ]
  },
  {
   "cell_type": "code",
   "execution_count": 29,
   "id": "ed547bab",
   "metadata": {},
   "outputs": [],
   "source": [
    "# df.info()"
   ]
  },
  {
   "cell_type": "markdown",
   "id": "a6633096",
   "metadata": {},
   "source": [
    "# 4.Item_Visibility "
   ]
  },
  {
   "cell_type": "code",
   "execution_count": 30,
   "id": "2f1aa15a",
   "metadata": {},
   "outputs": [
    {
     "data": {
      "text/plain": [
       "0       0.016047\n",
       "1       0.019278\n",
       "2       0.016760\n",
       "3       0.000000\n",
       "4       0.000000\n",
       "          ...   \n",
       "8518    0.056783\n",
       "8519    0.046982\n",
       "8520    0.035186\n",
       "8521    0.145221\n",
       "8522    0.044878\n",
       "Name: Item_Visibility, Length: 8523, dtype: float64"
      ]
     },
     "execution_count": 30,
     "metadata": {},
     "output_type": "execute_result"
    }
   ],
   "source": [
    "df['Item_Visibility']"
   ]
  },
  {
   "cell_type": "code",
   "execution_count": 31,
   "id": "9f322aac",
   "metadata": {},
   "outputs": [
    {
     "data": {
      "text/plain": [
       "7880"
      ]
     },
     "execution_count": 31,
     "metadata": {},
     "output_type": "execute_result"
    }
   ],
   "source": [
    "df['Item_Visibility'].nunique() # as 7880 unique values present"
   ]
  },
  {
   "cell_type": "code",
   "execution_count": 32,
   "id": "b9227bda",
   "metadata": {},
   "outputs": [
    {
     "data": {
      "text/plain": [
       "0.000000    526\n",
       "0.076975      3\n",
       "0.162462      2\n",
       "0.076841      2\n",
       "0.073562      2\n",
       "           ... \n",
       "0.013957      1\n",
       "0.110460      1\n",
       "0.124646      1\n",
       "0.054142      1\n",
       "0.044878      1\n",
       "Name: Item_Visibility, Length: 7880, dtype: int64"
      ]
     },
     "execution_count": 32,
     "metadata": {},
     "output_type": "execute_result"
    }
   ],
   "source": [
    "df['Item_Visibility'].value_counts()"
   ]
  },
  {
   "cell_type": "code",
   "execution_count": 33,
   "id": "f4af070b",
   "metadata": {},
   "outputs": [
    {
     "data": {
      "text/plain": [
       "0"
      ]
     },
     "execution_count": 33,
     "metadata": {},
     "output_type": "execute_result"
    }
   ],
   "source": [
    "df['Item_Visibility'].isna().sum()"
   ]
  },
  {
   "cell_type": "code",
   "execution_count": 34,
   "id": "813142fa",
   "metadata": {},
   "outputs": [
    {
     "data": {
      "text/plain": [
       "<AxesSubplot:xlabel='Item_Visibility'>"
      ]
     },
     "execution_count": 34,
     "metadata": {},
     "output_type": "execute_result"
    },
    {
     "data": {
      "image/png": "[encoded data removed]",
      "text/plain": [
       "<Figure size 500x200 with 1 Axes>"
      ]
     },
     "metadata": {},
     "output_type": "display_data"
    }
   ],
   "source": [
    "# outliers\n",
    "\n",
    "plt.figure(figsize=(5,2))\n",
    "sns.boxplot(x = df['Item_Visibility'])"
   ]
  },
  {
   "cell_type": "code",
   "execution_count": 35,
   "id": "4a4e44db",
   "metadata": {},
   "outputs": [
    {
     "name": "stdout",
     "output_type": "stream",
     "text": [
      "upper_tail : 0.195979015\n",
      "lower_tail : -0.07440424500000001\n"
     ]
    }
   ],
   "source": [
    "# by using irq method--detect outliers\n",
    "\n",
    "q1 = df['Item_Visibility'].quantile(0.25)\n",
    "q2 = df['Item_Visibility'].quantile(0.50)\n",
    "q3 = df['Item_Visibility'].quantile(0.75)\n",
    "\n",
    "iqr = q3 - q1\n",
    "\n",
    "upper_tail = q3 + 1.5 * iqr\n",
    "lower_tail = q1 - 1.5 * iqr\n",
    "\n",
    "\n",
    "print(\"upper_tail :\", upper_tail)\n",
    "print(\"lower_tail :\", lower_tail)"
   ]
  },
  {
   "cell_type": "code",
   "execution_count": 36,
   "id": "b48d8edd",
   "metadata": {},
   "outputs": [
    {
     "data": {
      "text/html": [
       "<div>\n",
       "<style scoped>\n",
       "    .dataframe tbody tr th:only-of-type {\n",
       "        vertical-align: middle;\n",
       "    }\n",
       "\n",
       "    .dataframe tbody tr th {\n",
       "        vertical-align: top;\n",
       "    }\n",
       "\n",
       "    .dataframe thead th {\n",
       "        text-align: right;\n",
       "    }\n",
       "</style>\n",
       "<table border=\"1\" class=\"dataframe\">\n",
       "  <thead>\n",
       "    <tr style=\"text-align: right;\">\n",
       "      <th></th>\n",
       "      <th>Item_Visibility</th>\n",
       "    </tr>\n",
       "  </thead>\n",
       "  <tbody>\n",
       "    <tr>\n",
       "      <th>49</th>\n",
       "      <td>0.255395</td>\n",
       "    </tr>\n",
       "    <tr>\n",
       "      <th>83</th>\n",
       "      <td>0.293418</td>\n",
       "    </tr>\n",
       "    <tr>\n",
       "      <th>108</th>\n",
       "      <td>0.278974</td>\n",
       "    </tr>\n",
       "    <tr>\n",
       "      <th>174</th>\n",
       "      <td>0.291865</td>\n",
       "    </tr>\n",
       "    <tr>\n",
       "      <th>334</th>\n",
       "      <td>0.204700</td>\n",
       "    </tr>\n",
       "    <tr>\n",
       "      <th>...</th>\n",
       "      <td>...</td>\n",
       "    </tr>\n",
       "    <tr>\n",
       "      <th>8292</th>\n",
       "      <td>0.209163</td>\n",
       "    </tr>\n",
       "    <tr>\n",
       "      <th>8345</th>\n",
       "      <td>0.266397</td>\n",
       "    </tr>\n",
       "    <tr>\n",
       "      <th>8371</th>\n",
       "      <td>0.214125</td>\n",
       "    </tr>\n",
       "    <tr>\n",
       "      <th>8432</th>\n",
       "      <td>0.227261</td>\n",
       "    </tr>\n",
       "    <tr>\n",
       "      <th>8509</th>\n",
       "      <td>0.214306</td>\n",
       "    </tr>\n",
       "  </tbody>\n",
       "</table>\n",
       "<p>144 rows × 1 columns</p>\n",
       "</div>"
      ],
      "text/plain": [
       "      Item_Visibility\n",
       "49           0.255395\n",
       "83           0.293418\n",
       "108          0.278974\n",
       "174          0.291865\n",
       "334          0.204700\n",
       "...               ...\n",
       "8292         0.209163\n",
       "8345         0.266397\n",
       "8371         0.214125\n",
       "8432         0.227261\n",
       "8509         0.214306\n",
       "\n",
       "[144 rows x 1 columns]"
      ]
     },
     "execution_count": 36,
     "metadata": {},
     "output_type": "execute_result"
    }
   ],
   "source": [
    "df[['Item_Visibility']].loc[df['Item_Visibility'] > upper_tail]  # outlires beyound upper_tail"
   ]
  },
  {
   "cell_type": "code",
   "execution_count": 37,
   "id": "deb83386",
   "metadata": {},
   "outputs": [],
   "source": [
    "# df[['Item_Visibility']].loc[df['Item_Visibility'] < lower_tail]"
   ]
  },
  {
   "cell_type": "code",
   "execution_count": 38,
   "id": "9661a0e6",
   "metadata": {},
   "outputs": [],
   "source": [
    "# df['Item_Visibility'].loc[(df['Item_Visibility'] <= upper_tail).median()] "
   ]
  },
  {
   "cell_type": "code",
   "execution_count": 39,
   "id": "22eb86e9",
   "metadata": {},
   "outputs": [],
   "source": [
    "df.loc[(df['Item_Visibility'] > upper_tail), 'Item_Visibility'] = upper_tail  "
   ]
  },
  {
   "cell_type": "code",
   "execution_count": 40,
   "id": "152107c2",
   "metadata": {},
   "outputs": [
    {
     "data": {
      "text/html": [
       "<div>\n",
       "<style scoped>\n",
       "    .dataframe tbody tr th:only-of-type {\n",
       "        vertical-align: middle;\n",
       "    }\n",
       "\n",
       "    .dataframe tbody tr th {\n",
       "        vertical-align: top;\n",
       "    }\n",
       "\n",
       "    .dataframe thead th {\n",
       "        text-align: right;\n",
       "    }\n",
       "</style>\n",
       "<table border=\"1\" class=\"dataframe\">\n",
       "  <thead>\n",
       "    <tr style=\"text-align: right;\">\n",
       "      <th></th>\n",
       "      <th>Item_Visibility</th>\n",
       "    </tr>\n",
       "  </thead>\n",
       "  <tbody>\n",
       "  </tbody>\n",
       "</table>\n",
       "</div>"
      ],
      "text/plain": [
       "Empty DataFrame\n",
       "Columns: [Item_Visibility]\n",
       "Index: []"
      ]
     },
     "execution_count": 40,
     "metadata": {},
     "output_type": "execute_result"
    }
   ],
   "source": [
    "df[['Item_Visibility']].loc[df['Item_Visibility'] > upper_tail]  # check"
   ]
  },
  {
   "cell_type": "code",
   "execution_count": 41,
   "id": "6e287b49",
   "metadata": {},
   "outputs": [
    {
     "data": {
      "text/plain": [
       "<AxesSubplot:xlabel='Item_Visibility'>"
      ]
     },
     "execution_count": 41,
     "metadata": {},
     "output_type": "execute_result"
    },
    {
     "data": {
      "image/png": "[encoded data removed]",
      "text/plain": [
       "<Figure size 500x100 with 1 Axes>"
      ]
     },
     "metadata": {},
     "output_type": "display_data"
    }
   ],
   "source": [
    "plt.figure(figsize=(5,1))\n",
    "sns.boxplot(x = df['Item_Visibility']) # again check"
   ]
  },
  {
   "cell_type": "code",
   "execution_count": 42,
   "id": "d07ee050",
   "metadata": {},
   "outputs": [],
   "source": [
    "# df.info()\n"
   ]
  },
  {
   "cell_type": "markdown",
   "id": "82a72436",
   "metadata": {},
   "source": [
    "## 5.Item_Type  "
   ]
  },
  {
   "cell_type": "code",
   "execution_count": 43,
   "id": "f422c8c7",
   "metadata": {},
   "outputs": [
    {
     "data": {
      "text/plain": [
       "0                       Dairy\n",
       "1                 Soft Drinks\n",
       "2                        Meat\n",
       "3       Fruits and Vegetables\n",
       "4                   Household\n",
       "                ...          \n",
       "8518              Snack Foods\n",
       "8519             Baking Goods\n",
       "8520       Health and Hygiene\n",
       "8521              Snack Foods\n",
       "8522              Soft Drinks\n",
       "Name: Item_Type, Length: 8523, dtype: object"
      ]
     },
     "execution_count": 43,
     "metadata": {},
     "output_type": "execute_result"
    }
   ],
   "source": [
    "df['Item_Type']"
   ]
  },
  {
   "cell_type": "code",
   "execution_count": 44,
   "id": "ea04996a",
   "metadata": {},
   "outputs": [
    {
     "data": {
      "text/plain": [
       "array(['Dairy', 'Soft Drinks', 'Meat', 'Fruits and Vegetables',\n",
       "       'Household', 'Baking Goods', 'Snack Foods', 'Frozen Foods',\n",
       "       'Breakfast', 'Health and Hygiene', 'Hard Drinks', 'Canned',\n",
       "       'Breads', 'Starchy Foods', 'Others', 'Seafood'], dtype=object)"
      ]
     },
     "execution_count": 44,
     "metadata": {},
     "output_type": "execute_result"
    }
   ],
   "source": [
    "df['Item_Type'].unique()"
   ]
  },
  {
   "cell_type": "code",
   "execution_count": 45,
   "id": "addb1b66",
   "metadata": {},
   "outputs": [
    {
     "data": {
      "text/plain": [
       "16"
      ]
     },
     "execution_count": 45,
     "metadata": {},
     "output_type": "execute_result"
    }
   ],
   "source": [
    "df['Item_Type'].nunique()  # 16 unique values"
   ]
  },
  {
   "cell_type": "code",
   "execution_count": 46,
   "id": "4eeb7721",
   "metadata": {},
   "outputs": [],
   "source": [
    "# df['Item_Type'].value_counts()"
   ]
  },
  {
   "cell_type": "code",
   "execution_count": 47,
   "id": "dff190da",
   "metadata": {},
   "outputs": [
    {
     "data": {
      "text/plain": [
       "0"
      ]
     },
     "execution_count": 47,
     "metadata": {},
     "output_type": "execute_result"
    }
   ],
   "source": [
    "df['Item_Type'].isna().sum()"
   ]
  },
  {
   "cell_type": "code",
   "execution_count": 48,
   "id": "e166e03a",
   "metadata": {},
   "outputs": [],
   "source": [
    "# Feature Engg---one hot encoding---as 16 non-ordinal values are thr\n",
    "\n",
    "df = pd.get_dummies(df,columns=['Item_Type'])\n",
    "# df"
   ]
  },
  {
   "cell_type": "markdown",
   "id": "c13372d8",
   "metadata": {},
   "source": [
    "## 6.Item_MRP"
   ]
  },
  {
   "cell_type": "code",
   "execution_count": 49,
   "id": "090a8208",
   "metadata": {},
   "outputs": [
    {
     "data": {
      "text/plain": [
       "0       249.8092\n",
       "1        48.2692\n",
       "2       141.6180\n",
       "3       182.0950\n",
       "4        53.8614\n",
       "          ...   \n",
       "8518    214.5218\n",
       "8519    108.1570\n",
       "8520     85.1224\n",
       "8521    103.1332\n",
       "8522     75.4670\n",
       "Name: Item_MRP, Length: 8523, dtype: float64"
      ]
     },
     "execution_count": 49,
     "metadata": {},
     "output_type": "execute_result"
    }
   ],
   "source": [
    "df['Item_MRP']"
   ]
  },
  {
   "cell_type": "code",
   "execution_count": 50,
   "id": "6091fc90",
   "metadata": {},
   "outputs": [
    {
     "data": {
      "text/plain": [
       "5938"
      ]
     },
     "execution_count": 50,
     "metadata": {},
     "output_type": "execute_result"
    }
   ],
   "source": [
    "df['Item_MRP'].nunique()  # 5938 unique values"
   ]
  },
  {
   "cell_type": "code",
   "execution_count": 51,
   "id": "84185fd5",
   "metadata": {},
   "outputs": [
    {
     "data": {
      "text/plain": [
       "0"
      ]
     },
     "execution_count": 51,
     "metadata": {},
     "output_type": "execute_result"
    }
   ],
   "source": [
    "df['Item_MRP'].isna().sum()"
   ]
  },
  {
   "cell_type": "code",
   "execution_count": 52,
   "id": "0e99c047",
   "metadata": {},
   "outputs": [],
   "source": [
    "# df.describe()"
   ]
  },
  {
   "cell_type": "code",
   "execution_count": 53,
   "id": "da252756",
   "metadata": {},
   "outputs": [
    {
     "data": {
      "text/plain": [
       "<AxesSubplot:xlabel='Item_MRP'>"
      ]
     },
     "execution_count": 53,
     "metadata": {},
     "output_type": "execute_result"
    },
    {
     "data": {
      "image/png": "[encoded data removed]",
      "text/plain": [
       "<Figure size 500x100 with 1 Axes>"
      ]
     },
     "metadata": {},
     "output_type": "display_data"
    }
   ],
   "source": [
    "# check for outlires\n",
    "\n",
    "plt.figure(figsize=(5,1))\n",
    "sns.boxplot(x = df['Item_MRP'])   # no outlires present"
   ]
  },
  {
   "cell_type": "code",
   "execution_count": 54,
   "id": "6d994aa3",
   "metadata": {},
   "outputs": [],
   "source": [
    "# df.info()"
   ]
  },
  {
   "cell_type": "markdown",
   "id": "4d13ff2f",
   "metadata": {},
   "source": [
    "## 7.Outlet_Identifier"
   ]
  },
  {
   "cell_type": "code",
   "execution_count": 55,
   "id": "991bc077",
   "metadata": {},
   "outputs": [
    {
     "data": {
      "text/plain": [
       "array(['OUT049', 'OUT018', 'OUT010', 'OUT013', 'OUT027', 'OUT045',\n",
       "       'OUT017', 'OUT046', 'OUT035', 'OUT019'], dtype=object)"
      ]
     },
     "execution_count": 55,
     "metadata": {},
     "output_type": "execute_result"
    }
   ],
   "source": [
    "df['Outlet_Identifier'].unique()"
   ]
  },
  {
   "cell_type": "code",
   "execution_count": 56,
   "id": "0232f966",
   "metadata": {},
   "outputs": [
    {
     "data": {
      "text/plain": [
       "10"
      ]
     },
     "execution_count": 56,
     "metadata": {},
     "output_type": "execute_result"
    }
   ],
   "source": [
    "df['Outlet_Identifier'].nunique()   # 10 unique value"
   ]
  },
  {
   "cell_type": "code",
   "execution_count": 57,
   "id": "01490cb4",
   "metadata": {},
   "outputs": [
    {
     "data": {
      "text/plain": [
       "0"
      ]
     },
     "execution_count": 57,
     "metadata": {},
     "output_type": "execute_result"
    }
   ],
   "source": [
    "df['Outlet_Identifier'].isna().sum()  # no nan values"
   ]
  },
  {
   "cell_type": "code",
   "execution_count": 58,
   "id": "894aef79",
   "metadata": {},
   "outputs": [],
   "source": [
    "# Feature Engg---> one hot encoding\n",
    "\n",
    "df = pd.get_dummies(df,columns=['Outlet_Identifier'])\n",
    "# df"
   ]
  },
  {
   "cell_type": "code",
   "execution_count": 59,
   "id": "261fcc6f",
   "metadata": {},
   "outputs": [],
   "source": [
    "# df.info()"
   ]
  },
  {
   "cell_type": "markdown",
   "id": "45eec8c0",
   "metadata": {},
   "source": [
    "## 8.Outlet_Establishment_Year"
   ]
  },
  {
   "cell_type": "code",
   "execution_count": 60,
   "id": "ec90b8f8",
   "metadata": {},
   "outputs": [
    {
     "data": {
      "text/plain": [
       "0       1999\n",
       "1       2009\n",
       "2       1999\n",
       "3       1998\n",
       "4       1987\n",
       "        ... \n",
       "8518    1987\n",
       "8519    2002\n",
       "8520    2004\n",
       "8521    2009\n",
       "8522    1997\n",
       "Name: Outlet_Establishment_Year, Length: 8523, dtype: int64"
      ]
     },
     "execution_count": 60,
     "metadata": {},
     "output_type": "execute_result"
    }
   ],
   "source": [
    "df['Outlet_Establishment_Year']  # different yrs"
   ]
  },
  {
   "cell_type": "code",
   "execution_count": 166,
   "id": "e09b8606",
   "metadata": {},
   "outputs": [
    {
     "data": {
      "text/plain": [
       "array([1999, 2009, 1998, 1987, 1985, 2002, 2007, 1997, 2004], dtype=int64)"
      ]
     },
     "execution_count": 166,
     "metadata": {},
     "output_type": "execute_result"
    }
   ],
   "source": [
    "df['Outlet_Establishment_Year'].unique()"
   ]
  },
  {
   "cell_type": "code",
   "execution_count": 167,
   "id": "dfb87ff8",
   "metadata": {},
   "outputs": [
    {
     "data": {
      "text/plain": [
       "9"
      ]
     },
     "execution_count": 167,
     "metadata": {},
     "output_type": "execute_result"
    }
   ],
   "source": [
    "df['Outlet_Establishment_Year'].nunique()   # 9 unique value"
   ]
  },
  {
   "cell_type": "code",
   "execution_count": 63,
   "id": "3ee12c33",
   "metadata": {},
   "outputs": [
    {
     "data": {
      "text/plain": [
       "0"
      ]
     },
     "execution_count": 63,
     "metadata": {},
     "output_type": "execute_result"
    }
   ],
   "source": [
    "df['Outlet_Establishment_Year'].isna().sum()"
   ]
  },
  {
   "cell_type": "code",
   "execution_count": 168,
   "id": "38392b4a",
   "metadata": {},
   "outputs": [
    {
     "data": {
      "text/plain": [
       "{1985: 1463,\n",
       " 1987: 932,\n",
       " 1999: 930,\n",
       " 1997: 930,\n",
       " 2004: 930,\n",
       " 2002: 929,\n",
       " 2009: 928,\n",
       " 2007: 926,\n",
       " 1998: 555}"
      ]
     },
     "execution_count": 168,
     "metadata": {},
     "output_type": "execute_result"
    }
   ],
   "source": [
    "df['Outlet_Establishment_Year'].value_counts().to_dict()"
   ]
  },
  {
   "cell_type": "code",
   "execution_count": 65,
   "id": "59cc9efb",
   "metadata": {},
   "outputs": [],
   "source": [
    "# df['Outlet_Establishment_Year']"
   ]
  },
  {
   "cell_type": "code",
   "execution_count": 66,
   "id": "afdaea30",
   "metadata": {},
   "outputs": [],
   "source": [
    "df['Outlet_Establishment_Year'] = df['Outlet_Establishment_Year'].astype(object) # 1st convert into object"
   ]
  },
  {
   "cell_type": "code",
   "execution_count": 67,
   "id": "dde5d77b",
   "metadata": {},
   "outputs": [
    {
     "data": {
      "text/plain": [
       "array([1999, 2009, 1998, 1987, 1985, 2002, 2007, 1997, 2004], dtype=object)"
      ]
     },
     "execution_count": 67,
     "metadata": {},
     "output_type": "execute_result"
    }
   ],
   "source": [
    "df['Outlet_Establishment_Year'].unique()"
   ]
  },
  {
   "cell_type": "code",
   "execution_count": 68,
   "id": "ffc8921f",
   "metadata": {},
   "outputs": [],
   "source": [
    "# df['Outlet_Establishment_Year'].value_counts().to_dict()\n"
   ]
  },
  {
   "cell_type": "code",
   "execution_count": 69,
   "id": "8829e7ca",
   "metadata": {},
   "outputs": [],
   "source": [
    "# now repalce that years with (current year - that year)"
   ]
  },
  {
   "cell_type": "code",
   "execution_count": 70,
   "id": "d173c19f",
   "metadata": {},
   "outputs": [],
   "source": [
    "df['Outlet_Establishment_Year'].replace({'1985': 38,\n",
    "'1987': 36,\n",
    "'1999': 24,\n",
    " '1997': 26,\n",
    "'2004': 19,\n",
    " '2002': 21,\n",
    " '2009': 14,\n",
    " '2007': 16,\n",
    " '1998': 25},inplace=True)"
   ]
  },
  {
   "cell_type": "code",
   "execution_count": null,
   "id": "9ad05a4c",
   "metadata": {},
   "outputs": [],
   "source": []
  },
  {
   "cell_type": "code",
   "execution_count": 71,
   "id": "20943a78",
   "metadata": {},
   "outputs": [],
   "source": [
    "outlet_Establishment_Year_select = {'1985': 38,\n",
    "'1987': 36,\n",
    "'1999': 24,\n",
    " '1997': 26,\n",
    "'2004': 19,\n",
    " '2002': 21,\n",
    " '2009': 14,\n",
    " '2007': 16,\n",
    " '1998': 25}"
   ]
  },
  {
   "cell_type": "code",
   "execution_count": 72,
   "id": "69f42b53",
   "metadata": {},
   "outputs": [],
   "source": [
    "# df.info()"
   ]
  },
  {
   "cell_type": "markdown",
   "id": "ea22b32c",
   "metadata": {},
   "source": [
    "## 9.Outlet_Size "
   ]
  },
  {
   "cell_type": "code",
   "execution_count": 73,
   "id": "f89c22f0",
   "metadata": {},
   "outputs": [
    {
     "data": {
      "text/plain": [
       "0       Medium\n",
       "1       Medium\n",
       "2       Medium\n",
       "3          NaN\n",
       "4         High\n",
       "         ...  \n",
       "8518      High\n",
       "8519       NaN\n",
       "8520     Small\n",
       "8521    Medium\n",
       "8522     Small\n",
       "Name: Outlet_Size, Length: 8523, dtype: object"
      ]
     },
     "execution_count": 73,
     "metadata": {},
     "output_type": "execute_result"
    }
   ],
   "source": [
    "df['Outlet_Size']"
   ]
  },
  {
   "cell_type": "code",
   "execution_count": 74,
   "id": "80345551",
   "metadata": {},
   "outputs": [
    {
     "data": {
      "text/plain": [
       "array(['Medium', nan, 'High', 'Small'], dtype=object)"
      ]
     },
     "execution_count": 74,
     "metadata": {},
     "output_type": "execute_result"
    }
   ],
   "source": [
    "df['Outlet_Size'].unique()"
   ]
  },
  {
   "cell_type": "code",
   "execution_count": 75,
   "id": "fcaf2012",
   "metadata": {},
   "outputs": [
    {
     "data": {
      "text/plain": [
       "Medium    2793\n",
       "Small     2388\n",
       "High       932\n",
       "Name: Outlet_Size, dtype: int64"
      ]
     },
     "execution_count": 75,
     "metadata": {},
     "output_type": "execute_result"
    }
   ],
   "source": [
    "df['Outlet_Size'].value_counts()"
   ]
  },
  {
   "cell_type": "code",
   "execution_count": 76,
   "id": "9725e135",
   "metadata": {},
   "outputs": [
    {
     "data": {
      "text/plain": [
       "2410"
      ]
     },
     "execution_count": 76,
     "metadata": {},
     "output_type": "execute_result"
    }
   ],
   "source": [
    "df['Outlet_Size'].isna().sum()   "
   ]
  },
  {
   "cell_type": "code",
   "execution_count": 77,
   "id": "44dfdfa1",
   "metadata": {},
   "outputs": [
    {
     "data": {
      "text/plain": [
       "'Medium'"
      ]
     },
     "execution_count": 77,
     "metadata": {},
     "output_type": "execute_result"
    }
   ],
   "source": [
    "# Feature Engg--->replace NAN value \n",
    "\n",
    "df['Outlet_Size'].mode()[0]"
   ]
  },
  {
   "cell_type": "code",
   "execution_count": 78,
   "id": "37280c69",
   "metadata": {},
   "outputs": [],
   "source": [
    "df['Outlet_Size'].fillna('Medium',inplace=True)"
   ]
  },
  {
   "cell_type": "code",
   "execution_count": 79,
   "id": "86a0aae5",
   "metadata": {},
   "outputs": [],
   "source": [
    "# no needed labelled encoding-->\n",
    "\n",
    "df['Outlet_Size'].replace({'Medium': 1, 'Small': 0, 'High': 2},inplace=True)"
   ]
  },
  {
   "cell_type": "code",
   "execution_count": 80,
   "id": "ec087492",
   "metadata": {},
   "outputs": [],
   "source": [
    "outlet_Size_select = {'Medium': 1, 'Small': 0, 'High': 2}"
   ]
  },
  {
   "cell_type": "code",
   "execution_count": 81,
   "id": "9dd968ec",
   "metadata": {},
   "outputs": [],
   "source": [
    "# df['Outlet_Size']"
   ]
  },
  {
   "cell_type": "code",
   "execution_count": 82,
   "id": "00718289",
   "metadata": {},
   "outputs": [],
   "source": [
    "# df.info()"
   ]
  },
  {
   "cell_type": "markdown",
   "id": "2cd681ed",
   "metadata": {},
   "source": [
    "## 10.Outlet_Location_Type "
   ]
  },
  {
   "cell_type": "code",
   "execution_count": 83,
   "id": "e720db6d",
   "metadata": {},
   "outputs": [
    {
     "data": {
      "text/plain": [
       "array(['Tier 1', 'Tier 3', 'Tier 2'], dtype=object)"
      ]
     },
     "execution_count": 83,
     "metadata": {},
     "output_type": "execute_result"
    }
   ],
   "source": [
    "df['Outlet_Location_Type'].unique()"
   ]
  },
  {
   "cell_type": "code",
   "execution_count": 84,
   "id": "29e595e4",
   "metadata": {},
   "outputs": [
    {
     "data": {
      "text/plain": [
       "0"
      ]
     },
     "execution_count": 84,
     "metadata": {},
     "output_type": "execute_result"
    }
   ],
   "source": [
    "df['Outlet_Location_Type'].isna().sum()"
   ]
  },
  {
   "cell_type": "code",
   "execution_count": 85,
   "id": "9b4a183e",
   "metadata": {},
   "outputs": [
    {
     "data": {
      "text/plain": [
       "{'Tier 3': 3350, 'Tier 2': 2785, 'Tier 1': 2388}"
      ]
     },
     "execution_count": 85,
     "metadata": {},
     "output_type": "execute_result"
    }
   ],
   "source": [
    "df['Outlet_Location_Type'].value_counts().to_dict()"
   ]
  },
  {
   "cell_type": "code",
   "execution_count": 86,
   "id": "76fae72f",
   "metadata": {},
   "outputs": [],
   "source": [
    "# Feature Engg--encoding\n",
    "\n",
    "df['Outlet_Location_Type'].replace({'Tier 3': 3, 'Tier 2': 2, 'Tier 1': 1},inplace=True)"
   ]
  },
  {
   "cell_type": "code",
   "execution_count": 87,
   "id": "9e680537",
   "metadata": {},
   "outputs": [],
   "source": [
    "outlet_Location_Type_select = {'Tier 3': 3, 'Tier 2': 2, 'Tier 1': 1}"
   ]
  },
  {
   "cell_type": "code",
   "execution_count": 88,
   "id": "f43fbcb7",
   "metadata": {},
   "outputs": [],
   "source": [
    "# df.info()"
   ]
  },
  {
   "cell_type": "markdown",
   "id": "6d41cfce",
   "metadata": {},
   "source": [
    "## 11.Outlet_Type "
   ]
  },
  {
   "cell_type": "code",
   "execution_count": 89,
   "id": "0a6e4f00",
   "metadata": {},
   "outputs": [
    {
     "data": {
      "text/plain": [
       "0       Supermarket Type1\n",
       "1       Supermarket Type2\n",
       "2       Supermarket Type1\n",
       "3           Grocery Store\n",
       "4       Supermarket Type1\n",
       "              ...        \n",
       "8518    Supermarket Type1\n",
       "8519    Supermarket Type1\n",
       "8520    Supermarket Type1\n",
       "8521    Supermarket Type2\n",
       "8522    Supermarket Type1\n",
       "Name: Outlet_Type, Length: 8523, dtype: object"
      ]
     },
     "execution_count": 89,
     "metadata": {},
     "output_type": "execute_result"
    }
   ],
   "source": [
    "df['Outlet_Type']"
   ]
  },
  {
   "cell_type": "code",
   "execution_count": 90,
   "id": "8a77637e",
   "metadata": {},
   "outputs": [
    {
     "data": {
      "text/plain": [
       "array(['Supermarket Type1', 'Supermarket Type2', 'Grocery Store',\n",
       "       'Supermarket Type3'], dtype=object)"
      ]
     },
     "execution_count": 90,
     "metadata": {},
     "output_type": "execute_result"
    }
   ],
   "source": [
    "df['Outlet_Type'].unique()"
   ]
  },
  {
   "cell_type": "code",
   "execution_count": 91,
   "id": "bb67d6f2",
   "metadata": {},
   "outputs": [
    {
     "data": {
      "text/plain": [
       "0"
      ]
     },
     "execution_count": 91,
     "metadata": {},
     "output_type": "execute_result"
    }
   ],
   "source": [
    "df['Outlet_Type'].isna().sum()"
   ]
  },
  {
   "cell_type": "code",
   "execution_count": 92,
   "id": "650c6edd",
   "metadata": {},
   "outputs": [
    {
     "data": {
      "text/plain": [
       "Supermarket Type1    5577\n",
       "Grocery Store        1083\n",
       "Supermarket Type3     935\n",
       "Supermarket Type2     928\n",
       "Name: Outlet_Type, dtype: int64"
      ]
     },
     "execution_count": 92,
     "metadata": {},
     "output_type": "execute_result"
    }
   ],
   "source": [
    "df['Outlet_Type'].value_counts()"
   ]
  },
  {
   "cell_type": "code",
   "execution_count": 93,
   "id": "8c30c4bb",
   "metadata": {},
   "outputs": [],
   "source": [
    "# Feature Engg--->one hot encoding\n",
    "\n",
    "df = pd.get_dummies(df,columns=['Outlet_Type'])\n",
    "# df"
   ]
  },
  {
   "cell_type": "code",
   "execution_count": 94,
   "id": "aa407e77",
   "metadata": {},
   "outputs": [],
   "source": [
    "# df.info()"
   ]
  },
  {
   "cell_type": "markdown",
   "id": "1bf7ddb9",
   "metadata": {},
   "source": [
    "## 12.Item_Outlet_Sales"
   ]
  },
  {
   "cell_type": "code",
   "execution_count": 95,
   "id": "5a0df4d7",
   "metadata": {},
   "outputs": [
    {
     "data": {
      "text/plain": [
       "0       3735.1380\n",
       "1        443.4228\n",
       "2       2097.2700\n",
       "3        732.3800\n",
       "4        994.7052\n",
       "          ...    \n",
       "8518    2778.3834\n",
       "8519     549.2850\n",
       "8520    1193.1136\n",
       "8521    1845.5976\n",
       "8522     765.6700\n",
       "Name: Item_Outlet_Sales, Length: 8523, dtype: float64"
      ]
     },
     "execution_count": 95,
     "metadata": {},
     "output_type": "execute_result"
    }
   ],
   "source": [
    "df['Item_Outlet_Sales']"
   ]
  },
  {
   "cell_type": "code",
   "execution_count": 96,
   "id": "74049ea6",
   "metadata": {},
   "outputs": [
    {
     "data": {
      "text/plain": [
       "0"
      ]
     },
     "execution_count": 96,
     "metadata": {},
     "output_type": "execute_result"
    }
   ],
   "source": [
    "df['Item_Outlet_Sales'].isna().sum()  # no NAN values"
   ]
  },
  {
   "cell_type": "code",
   "execution_count": 97,
   "id": "c8c5fec2",
   "metadata": {},
   "outputs": [
    {
     "data": {
      "text/plain": [
       "<AxesSubplot:xlabel='Item_Outlet_Sales'>"
      ]
     },
     "execution_count": 97,
     "metadata": {},
     "output_type": "execute_result"
    },
    {
     "data": {
      "image/png": "[encoded data removed]",
      "text/plain": [
       "<Figure size 500x100 with 1 Axes>"
      ]
     },
     "metadata": {},
     "output_type": "display_data"
    }
   ],
   "source": [
    "plt.figure(figsize=(5,1))\n",
    "sns.boxplot(x = df['Item_Outlet_Sales']) "
   ]
  },
  {
   "cell_type": "code",
   "execution_count": 98,
   "id": "1bbccab0",
   "metadata": {},
   "outputs": [
    {
     "data": {
      "text/plain": [
       "<AxesSubplot:xlabel='Item_Outlet_Sales', ylabel='Density'>"
      ]
     },
     "execution_count": 98,
     "metadata": {},
     "output_type": "execute_result"
    },
    {
     "data": {
      "image/png": "[encoded data removed]",
      "text/plain": [
       "<Figure size 500x300 with 1 Axes>"
      ]
     },
     "metadata": {},
     "output_type": "display_data"
    }
   ],
   "source": [
    "plt.figure(figsize=(5,3))\n",
    "sns.kdeplot(df['Item_Outlet_Sales'])  # +vely skwed"
   ]
  },
  {
   "cell_type": "code",
   "execution_count": 99,
   "id": "7d1855d0",
   "metadata": {},
   "outputs": [
    {
     "name": "stdout",
     "output_type": "stream",
     "text": [
      "upper_tail : 6501.8699\n",
      "lower_tail : -2566.3261\n"
     ]
    }
   ],
   "source": [
    "# by using irq method--detect outliers\n",
    "\n",
    "q1 = df['Item_Outlet_Sales'].quantile(0.25)\n",
    "q2 = df['Item_Outlet_Sales'].quantile(0.50)\n",
    "q3 = df['Item_Outlet_Sales'].quantile(0.75)\n",
    "\n",
    "iqr = q3 - q1\n",
    "\n",
    "upper_tail = q3 + 1.5 * iqr\n",
    "lower_tail = q1 - 1.5 * iqr\n",
    "\n",
    "\n",
    "print(\"upper_tail :\", upper_tail)\n",
    "print(\"lower_tail :\", lower_tail)"
   ]
  },
  {
   "cell_type": "code",
   "execution_count": 100,
   "id": "a3d203c5",
   "metadata": {},
   "outputs": [
    {
     "data": {
      "text/html": [
       "<div>\n",
       "<style scoped>\n",
       "    .dataframe tbody tr th:only-of-type {\n",
       "        vertical-align: middle;\n",
       "    }\n",
       "\n",
       "    .dataframe tbody tr th {\n",
       "        vertical-align: top;\n",
       "    }\n",
       "\n",
       "    .dataframe thead th {\n",
       "        text-align: right;\n",
       "    }\n",
       "</style>\n",
       "<table border=\"1\" class=\"dataframe\">\n",
       "  <thead>\n",
       "    <tr style=\"text-align: right;\">\n",
       "      <th></th>\n",
       "      <th>Item_Outlet_Sales</th>\n",
       "    </tr>\n",
       "  </thead>\n",
       "  <tbody>\n",
       "    <tr>\n",
       "      <th>43</th>\n",
       "      <td>6768.5228</td>\n",
       "    </tr>\n",
       "    <tr>\n",
       "      <th>130</th>\n",
       "      <td>7968.2944</td>\n",
       "    </tr>\n",
       "    <tr>\n",
       "      <th>132</th>\n",
       "      <td>6976.2524</td>\n",
       "    </tr>\n",
       "    <tr>\n",
       "      <th>145</th>\n",
       "      <td>7370.4060</td>\n",
       "    </tr>\n",
       "    <tr>\n",
       "      <th>203</th>\n",
       "      <td>6704.6060</td>\n",
       "    </tr>\n",
       "    <tr>\n",
       "      <th>...</th>\n",
       "      <td>...</td>\n",
       "    </tr>\n",
       "    <tr>\n",
       "      <th>8245</th>\n",
       "      <td>7549.5062</td>\n",
       "    </tr>\n",
       "    <tr>\n",
       "      <th>8329</th>\n",
       "      <td>6630.0364</td>\n",
       "    </tr>\n",
       "    <tr>\n",
       "      <th>8350</th>\n",
       "      <td>7240.5750</td>\n",
       "    </tr>\n",
       "    <tr>\n",
       "      <th>8447</th>\n",
       "      <td>7588.1226</td>\n",
       "    </tr>\n",
       "    <tr>\n",
       "      <th>8510</th>\n",
       "      <td>7182.6504</td>\n",
       "    </tr>\n",
       "  </tbody>\n",
       "</table>\n",
       "<p>186 rows × 1 columns</p>\n",
       "</div>"
      ],
      "text/plain": [
       "      Item_Outlet_Sales\n",
       "43            6768.5228\n",
       "130           7968.2944\n",
       "132           6976.2524\n",
       "145           7370.4060\n",
       "203           6704.6060\n",
       "...                 ...\n",
       "8245          7549.5062\n",
       "8329          6630.0364\n",
       "8350          7240.5750\n",
       "8447          7588.1226\n",
       "8510          7182.6504\n",
       "\n",
       "[186 rows x 1 columns]"
      ]
     },
     "execution_count": 100,
     "metadata": {},
     "output_type": "execute_result"
    }
   ],
   "source": [
    "df[['Item_Outlet_Sales']].loc[df['Item_Outlet_Sales'] > upper_tail]    # 186 otlirs are present"
   ]
  },
  {
   "cell_type": "code",
   "execution_count": 101,
   "id": "415dbf25",
   "metadata": {},
   "outputs": [
    {
     "data": {
      "text/plain": [
       "13086.9648"
      ]
     },
     "execution_count": 101,
     "metadata": {},
     "output_type": "execute_result"
    }
   ],
   "source": [
    "df['Item_Outlet_Sales'].max()"
   ]
  },
  {
   "cell_type": "code",
   "execution_count": 102,
   "id": "74b67b55",
   "metadata": {},
   "outputs": [
    {
     "data": {
      "text/plain": [
       "33.29"
      ]
     },
     "execution_count": 102,
     "metadata": {},
     "output_type": "execute_result"
    }
   ],
   "source": [
    "df['Item_Outlet_Sales'].min()"
   ]
  },
  {
   "cell_type": "raw",
   "id": "fe7d9be2",
   "metadata": {},
   "source": [
    "# thr is huge difference b/w min value and max value-->max = 13086 and min = 33.29\n",
    "# Outlirs may be accurate values in target columns....(what to do ?)"
   ]
  },
  {
   "cell_type": "code",
   "execution_count": null,
   "id": "f2eacb93",
   "metadata": {},
   "outputs": [],
   "source": []
  },
  {
   "cell_type": "code",
   "execution_count": 103,
   "id": "be1547c4",
   "metadata": {},
   "outputs": [
    {
     "name": "stdout",
     "output_type": "stream",
     "text": [
      "<class 'pandas.core.frame.DataFrame'>\n",
      "RangeIndex: 8523 entries, 0 to 8522\n",
      "Empty DataFrame"
     ]
    }
   ],
   "source": [
    "df.select_dtypes(include=['object']).info()   # all column are numerical-->dataset is ready to use"
   ]
  },
  {
   "cell_type": "code",
   "execution_count": 104,
   "id": "d79c3dea",
   "metadata": {},
   "outputs": [
    {
     "data": {
      "text/html": [
       "<div>\n",
       "<style scoped>\n",
       "    .dataframe tbody tr th:only-of-type {\n",
       "        vertical-align: middle;\n",
       "    }\n",
       "\n",
       "    .dataframe tbody tr th {\n",
       "        vertical-align: top;\n",
       "    }\n",
       "\n",
       "    .dataframe thead th {\n",
       "        text-align: right;\n",
       "    }\n",
       "</style>\n",
       "<table border=\"1\" class=\"dataframe\">\n",
       "  <thead>\n",
       "    <tr style=\"text-align: right;\">\n",
       "      <th></th>\n",
       "      <th>Item_Weight</th>\n",
       "      <th>Item_Fat_Content</th>\n",
       "      <th>Item_Visibility</th>\n",
       "      <th>Item_MRP</th>\n",
       "      <th>Outlet_Establishment_Year</th>\n",
       "      <th>Outlet_Size</th>\n",
       "      <th>Outlet_Location_Type</th>\n",
       "      <th>Item_Outlet_Sales</th>\n",
       "      <th>Item_Type_Baking Goods</th>\n",
       "      <th>Item_Type_Breads</th>\n",
       "      <th>...</th>\n",
       "      <th>Outlet_Identifier_OUT019</th>\n",
       "      <th>Outlet_Identifier_OUT027</th>\n",
       "      <th>Outlet_Identifier_OUT035</th>\n",
       "      <th>Outlet_Identifier_OUT045</th>\n",
       "      <th>Outlet_Identifier_OUT046</th>\n",
       "      <th>Outlet_Identifier_OUT049</th>\n",
       "      <th>Outlet_Type_Grocery Store</th>\n",
       "      <th>Outlet_Type_Supermarket Type1</th>\n",
       "      <th>Outlet_Type_Supermarket Type2</th>\n",
       "      <th>Outlet_Type_Supermarket Type3</th>\n",
       "    </tr>\n",
       "  </thead>\n",
       "  <tbody>\n",
       "    <tr>\n",
       "      <th>0</th>\n",
       "      <td>9.300</td>\n",
       "      <td>0</td>\n",
       "      <td>0.016047</td>\n",
       "      <td>249.8092</td>\n",
       "      <td>1999</td>\n",
       "      <td>1</td>\n",
       "      <td>1</td>\n",
       "      <td>3735.1380</td>\n",
       "      <td>0</td>\n",
       "      <td>0</td>\n",
       "      <td>...</td>\n",
       "      <td>0</td>\n",
       "      <td>0</td>\n",
       "      <td>0</td>\n",
       "      <td>0</td>\n",
       "      <td>0</td>\n",
       "      <td>1</td>\n",
       "      <td>0</td>\n",
       "      <td>1</td>\n",
       "      <td>0</td>\n",
       "      <td>0</td>\n",
       "    </tr>\n",
       "    <tr>\n",
       "      <th>1</th>\n",
       "      <td>5.920</td>\n",
       "      <td>1</td>\n",
       "      <td>0.019278</td>\n",
       "      <td>48.2692</td>\n",
       "      <td>2009</td>\n",
       "      <td>1</td>\n",
       "      <td>3</td>\n",
       "      <td>443.4228</td>\n",
       "      <td>0</td>\n",
       "      <td>0</td>\n",
       "      <td>...</td>\n",
       "      <td>0</td>\n",
       "      <td>0</td>\n",
       "      <td>0</td>\n",
       "      <td>0</td>\n",
       "      <td>0</td>\n",
       "      <td>0</td>\n",
       "      <td>0</td>\n",
       "      <td>0</td>\n",
       "      <td>1</td>\n",
       "      <td>0</td>\n",
       "    </tr>\n",
       "    <tr>\n",
       "      <th>2</th>\n",
       "      <td>17.500</td>\n",
       "      <td>0</td>\n",
       "      <td>0.016760</td>\n",
       "      <td>141.6180</td>\n",
       "      <td>1999</td>\n",
       "      <td>1</td>\n",
       "      <td>1</td>\n",
       "      <td>2097.2700</td>\n",
       "      <td>0</td>\n",
       "      <td>0</td>\n",
       "      <td>...</td>\n",
       "      <td>0</td>\n",
       "      <td>0</td>\n",
       "      <td>0</td>\n",
       "      <td>0</td>\n",
       "      <td>0</td>\n",
       "      <td>1</td>\n",
       "      <td>0</td>\n",
       "      <td>1</td>\n",
       "      <td>0</td>\n",
       "      <td>0</td>\n",
       "    </tr>\n",
       "    <tr>\n",
       "      <th>3</th>\n",
       "      <td>19.200</td>\n",
       "      <td>1</td>\n",
       "      <td>0.000000</td>\n",
       "      <td>182.0950</td>\n",
       "      <td>1998</td>\n",
       "      <td>1</td>\n",
       "      <td>3</td>\n",
       "      <td>732.3800</td>\n",
       "      <td>0</td>\n",
       "      <td>0</td>\n",
       "      <td>...</td>\n",
       "      <td>0</td>\n",
       "      <td>0</td>\n",
       "      <td>0</td>\n",
       "      <td>0</td>\n",
       "      <td>0</td>\n",
       "      <td>0</td>\n",
       "      <td>1</td>\n",
       "      <td>0</td>\n",
       "      <td>0</td>\n",
       "      <td>0</td>\n",
       "    </tr>\n",
       "    <tr>\n",
       "      <th>4</th>\n",
       "      <td>8.930</td>\n",
       "      <td>0</td>\n",
       "      <td>0.000000</td>\n",
       "      <td>53.8614</td>\n",
       "      <td>1987</td>\n",
       "      <td>2</td>\n",
       "      <td>3</td>\n",
       "      <td>994.7052</td>\n",
       "      <td>0</td>\n",
       "      <td>0</td>\n",
       "      <td>...</td>\n",
       "      <td>0</td>\n",
       "      <td>0</td>\n",
       "      <td>0</td>\n",
       "      <td>0</td>\n",
       "      <td>0</td>\n",
       "      <td>0</td>\n",
       "      <td>0</td>\n",
       "      <td>1</td>\n",
       "      <td>0</td>\n",
       "      <td>0</td>\n",
       "    </tr>\n",
       "    <tr>\n",
       "      <th>...</th>\n",
       "      <td>...</td>\n",
       "      <td>...</td>\n",
       "      <td>...</td>\n",
       "      <td>...</td>\n",
       "      <td>...</td>\n",
       "      <td>...</td>\n",
       "      <td>...</td>\n",
       "      <td>...</td>\n",
       "      <td>...</td>\n",
       "      <td>...</td>\n",
       "      <td>...</td>\n",
       "      <td>...</td>\n",
       "      <td>...</td>\n",
       "      <td>...</td>\n",
       "      <td>...</td>\n",
       "      <td>...</td>\n",
       "      <td>...</td>\n",
       "      <td>...</td>\n",
       "      <td>...</td>\n",
       "      <td>...</td>\n",
       "      <td>...</td>\n",
       "    </tr>\n",
       "    <tr>\n",
       "      <th>8518</th>\n",
       "      <td>6.865</td>\n",
       "      <td>0</td>\n",
       "      <td>0.056783</td>\n",
       "      <td>214.5218</td>\n",
       "      <td>1987</td>\n",
       "      <td>2</td>\n",
       "      <td>3</td>\n",
       "      <td>2778.3834</td>\n",
       "      <td>0</td>\n",
       "      <td>0</td>\n",
       "      <td>...</td>\n",
       "      <td>0</td>\n",
       "      <td>0</td>\n",
       "      <td>0</td>\n",
       "      <td>0</td>\n",
       "      <td>0</td>\n",
       "      <td>0</td>\n",
       "      <td>0</td>\n",
       "      <td>1</td>\n",
       "      <td>0</td>\n",
       "      <td>0</td>\n",
       "    </tr>\n",
       "    <tr>\n",
       "      <th>8519</th>\n",
       "      <td>8.380</td>\n",
       "      <td>1</td>\n",
       "      <td>0.046982</td>\n",
       "      <td>108.1570</td>\n",
       "      <td>2002</td>\n",
       "      <td>1</td>\n",
       "      <td>2</td>\n",
       "      <td>549.2850</td>\n",
       "      <td>1</td>\n",
       "      <td>0</td>\n",
       "      <td>...</td>\n",
       "      <td>0</td>\n",
       "      <td>0</td>\n",
       "      <td>0</td>\n",
       "      <td>1</td>\n",
       "      <td>0</td>\n",
       "      <td>0</td>\n",
       "      <td>0</td>\n",
       "      <td>1</td>\n",
       "      <td>0</td>\n",
       "      <td>0</td>\n",
       "    </tr>\n",
       "    <tr>\n",
       "      <th>8520</th>\n",
       "      <td>10.600</td>\n",
       "      <td>0</td>\n",
       "      <td>0.035186</td>\n",
       "      <td>85.1224</td>\n",
       "      <td>2004</td>\n",
       "      <td>0</td>\n",
       "      <td>2</td>\n",
       "      <td>1193.1136</td>\n",
       "      <td>0</td>\n",
       "      <td>0</td>\n",
       "      <td>...</td>\n",
       "      <td>0</td>\n",
       "      <td>0</td>\n",
       "      <td>1</td>\n",
       "      <td>0</td>\n",
       "      <td>0</td>\n",
       "      <td>0</td>\n",
       "      <td>0</td>\n",
       "      <td>1</td>\n",
       "      <td>0</td>\n",
       "      <td>0</td>\n",
       "    </tr>\n",
       "    <tr>\n",
       "      <th>8521</th>\n",
       "      <td>7.210</td>\n",
       "      <td>1</td>\n",
       "      <td>0.145221</td>\n",
       "      <td>103.1332</td>\n",
       "      <td>2009</td>\n",
       "      <td>1</td>\n",
       "      <td>3</td>\n",
       "      <td>1845.5976</td>\n",
       "      <td>0</td>\n",
       "      <td>0</td>\n",
       "      <td>...</td>\n",
       "      <td>0</td>\n",
       "      <td>0</td>\n",
       "      <td>0</td>\n",
       "      <td>0</td>\n",
       "      <td>0</td>\n",
       "      <td>0</td>\n",
       "      <td>0</td>\n",
       "      <td>0</td>\n",
       "      <td>1</td>\n",
       "      <td>0</td>\n",
       "    </tr>\n",
       "    <tr>\n",
       "      <th>8522</th>\n",
       "      <td>14.800</td>\n",
       "      <td>0</td>\n",
       "      <td>0.044878</td>\n",
       "      <td>75.4670</td>\n",
       "      <td>1997</td>\n",
       "      <td>0</td>\n",
       "      <td>1</td>\n",
       "      <td>765.6700</td>\n",
       "      <td>0</td>\n",
       "      <td>0</td>\n",
       "      <td>...</td>\n",
       "      <td>0</td>\n",
       "      <td>0</td>\n",
       "      <td>0</td>\n",
       "      <td>0</td>\n",
       "      <td>1</td>\n",
       "      <td>0</td>\n",
       "      <td>0</td>\n",
       "      <td>1</td>\n",
       "      <td>0</td>\n",
       "      <td>0</td>\n",
       "    </tr>\n",
       "  </tbody>\n",
       "</table>\n",
       "<p>8523 rows × 38 columns</p>\n",
       "</div>"
      ],
      "text/plain": [
       "      Item_Weight  Item_Fat_Content  Item_Visibility  Item_MRP  \\\n",
       "0           9.300                 0         0.016047  249.8092   \n",
       "1           5.920                 1         0.019278   48.2692   \n",
       "2          17.500                 0         0.016760  141.6180   \n",
       "3          19.200                 1         0.000000  182.0950   \n",
       "4           8.930                 0         0.000000   53.8614   \n",
       "...           ...               ...              ...       ...   \n",
       "8518        6.865                 0         0.056783  214.5218   \n",
       "8519        8.380                 1         0.046982  108.1570   \n",
       "8520       10.600                 0         0.035186   85.1224   \n",
       "8521        7.210                 1         0.145221  103.1332   \n",
       "8522       14.800                 0         0.044878   75.4670   \n",
       "\n",
       "      Outlet_Establishment_Year  Outlet_Size  Outlet_Location_Type  \\\n",
       "0                          1999            1                     1   \n",
       "1                          2009            1                     3   \n",
       "2                          1999            1                     1   \n",
       "3                          1998            1                     3   \n",
       "4                          1987            2                     3   \n",
       "...                         ...          ...                   ...   \n",
       "8518                       1987            2                     3   \n",
       "8519                       2002            1                     2   \n",
       "8520                       2004            0                     2   \n",
       "8521                       2009            1                     3   \n",
       "8522                       1997            0                     1   \n",
       "\n",
       "      Item_Outlet_Sales  Item_Type_Baking Goods  Item_Type_Breads  ...  \\\n",
       "0             3735.1380                       0                 0  ...   \n",
       "1              443.4228                       0                 0  ...   \n",
       "2             2097.2700                       0                 0  ...   \n",
       "3              732.3800                       0                 0  ...   \n",
       "4              994.7052                       0                 0  ...   \n",
       "...                 ...                     ...               ...  ...   \n",
       "8518          2778.3834                       0                 0  ...   \n",
       "8519           549.2850                       1                 0  ...   \n",
       "8520          1193.1136                       0                 0  ...   \n",
       "8521          1845.5976                       0                 0  ...   \n",
       "8522           765.6700                       0                 0  ...   \n",
       "\n",
       "      Outlet_Identifier_OUT019  Outlet_Identifier_OUT027  \\\n",
       "0                            0                         0   \n",
       "1                            0                         0   \n",
       "2                            0                         0   \n",
       "3                            0                         0   \n",
       "4                            0                         0   \n",
       "...                        ...                       ...   \n",
       "8518                         0                         0   \n",
       "8519                         0                         0   \n",
       "8520                         0                         0   \n",
       "8521                         0                         0   \n",
       "8522                         0                         0   \n",
       "\n",
       "      Outlet_Identifier_OUT035  Outlet_Identifier_OUT045  \\\n",
       "0                            0                         0   \n",
       "1                            0                         0   \n",
       "2                            0                         0   \n",
       "3                            0                         0   \n",
       "4                            0                         0   \n",
       "...                        ...                       ...   \n",
       "8518                         0                         0   \n",
       "8519                         0                         1   \n",
       "8520                         1                         0   \n",
       "8521                         0                         0   \n",
       "8522                         0                         0   \n",
       "\n",
       "      Outlet_Identifier_OUT046  Outlet_Identifier_OUT049  \\\n",
       "0                            0                         1   \n",
       "1                            0                         0   \n",
       "2                            0                         1   \n",
       "3                            0                         0   \n",
       "4                            0                         0   \n",
       "...                        ...                       ...   \n",
       "8518                         0                         0   \n",
       "8519                         0                         0   \n",
       "8520                         0                         0   \n",
       "8521                         0                         0   \n",
       "8522                         1                         0   \n",
       "\n",
       "      Outlet_Type_Grocery Store  Outlet_Type_Supermarket Type1  \\\n",
       "0                             0                              1   \n",
       "1                             0                              0   \n",
       "2                             0                              1   \n",
       "3                             1                              0   \n",
       "4                             0                              1   \n",
       "...                         ...                            ...   \n",
       "8518                          0                              1   \n",
       "8519                          0                              1   \n",
       "8520                          0                              1   \n",
       "8521                          0                              0   \n",
       "8522                          0                              1   \n",
       "\n",
       "      Outlet_Type_Supermarket Type2  Outlet_Type_Supermarket Type3  \n",
       "0                                 0                              0  \n",
       "1                                 1                              0  \n",
       "2                                 0                              0  \n",
       "3                                 0                              0  \n",
       "4                                 0                              0  \n",
       "...                             ...                            ...  \n",
       "8518                              0                              0  \n",
       "8519                              0                              0  \n",
       "8520                              0                              0  \n",
       "8521                              1                              0  \n",
       "8522                              0                              0  \n",
       "\n",
       "[8523 rows x 38 columns]"
      ]
     },
     "execution_count": 104,
     "metadata": {},
     "output_type": "execute_result"
    }
   ],
   "source": [
    "df     # 8523 rows × 38 columns"
   ]
  },
  {
   "cell_type": "markdown",
   "id": "9b5c20e5",
   "metadata": {},
   "source": [
    "# FEATURE SELECTION"
   ]
  },
  {
   "cell_type": "markdown",
   "id": "7734a99a",
   "metadata": {},
   "source": [
    "## 1. LINIARITY"
   ]
  },
  {
   "cell_type": "code",
   "execution_count": 105,
   "id": "717f5a97",
   "metadata": {},
   "outputs": [
    {
     "data": {
      "text/html": [
       "<div>\n",
       "<style scoped>\n",
       "    .dataframe tbody tr th:only-of-type {\n",
       "        vertical-align: middle;\n",
       "    }\n",
       "\n",
       "    .dataframe tbody tr th {\n",
       "        vertical-align: top;\n",
       "    }\n",
       "\n",
       "    .dataframe thead th {\n",
       "        text-align: right;\n",
       "    }\n",
       "</style>\n",
       "<table border=\"1\" class=\"dataframe\">\n",
       "  <thead>\n",
       "    <tr style=\"text-align: right;\">\n",
       "      <th></th>\n",
       "      <th>Item_Outlet_Sales</th>\n",
       "    </tr>\n",
       "  </thead>\n",
       "  <tbody>\n",
       "    <tr>\n",
       "      <th>Outlet_Type_Grocery Store</th>\n",
       "      <td>-0.411727</td>\n",
       "    </tr>\n",
       "    <tr>\n",
       "      <th>Outlet_Identifier_OUT010</th>\n",
       "      <td>-0.284883</td>\n",
       "    </tr>\n",
       "    <tr>\n",
       "      <th>Outlet_Identifier_OUT019</th>\n",
       "      <td>-0.277250</td>\n",
       "    </tr>\n",
       "    <tr>\n",
       "      <th>Item_Visibility</th>\n",
       "      <td>-0.117918</td>\n",
       "    </tr>\n",
       "    <tr>\n",
       "      <th>Outlet_Establishment_Year</th>\n",
       "      <td>-0.049135</td>\n",
       "    </tr>\n",
       "    <tr>\n",
       "      <th>Item_Type_Baking Goods</th>\n",
       "      <td>-0.038381</td>\n",
       "    </tr>\n",
       "    <tr>\n",
       "      <th>Outlet_Identifier_OUT018</th>\n",
       "      <td>-0.038059</td>\n",
       "    </tr>\n",
       "    <tr>\n",
       "      <th>Outlet_Type_Supermarket Type2</th>\n",
       "      <td>-0.038059</td>\n",
       "    </tr>\n",
       "    <tr>\n",
       "      <th>Item_Type_Health and Hygiene</th>\n",
       "      <td>-0.025587</td>\n",
       "    </tr>\n",
       "    <tr>\n",
       "      <th>Item_Type_Soft Drinks</th>\n",
       "      <td>-0.024040</td>\n",
       "    </tr>\n",
       "    <tr>\n",
       "      <th>Item_Type_Others</th>\n",
       "      <td>-0.021267</td>\n",
       "    </tr>\n",
       "    <tr>\n",
       "      <th>Item_Type_Frozen Foods</th>\n",
       "      <td>-0.009482</td>\n",
       "    </tr>\n",
       "    <tr>\n",
       "      <th>Item_Type_Breakfast</th>\n",
       "      <td>-0.004656</td>\n",
       "    </tr>\n",
       "    <tr>\n",
       "      <th>Item_Type_Hard Drinks</th>\n",
       "      <td>-0.003956</td>\n",
       "    </tr>\n",
       "    <tr>\n",
       "      <th>Item_Type_Meat</th>\n",
       "      <td>-0.002995</td>\n",
       "    </tr>\n",
       "    <tr>\n",
       "      <th>Outlet_Identifier_OUT045</th>\n",
       "      <td>0.002274</td>\n",
       "    </tr>\n",
       "    <tr>\n",
       "      <th>Item_Type_Breads</th>\n",
       "      <td>0.002332</td>\n",
       "    </tr>\n",
       "    <tr>\n",
       "      <th>Item_Type_Seafood</th>\n",
       "      <td>0.007380</td>\n",
       "    </tr>\n",
       "    <tr>\n",
       "      <th>Item_Type_Canned</th>\n",
       "      <td>0.007387</td>\n",
       "    </tr>\n",
       "    <tr>\n",
       "      <th>Item_Type_Dairy</th>\n",
       "      <td>0.008858</td>\n",
       "    </tr>\n",
       "  </tbody>\n",
       "</table>\n",
       "</div>"
      ],
      "text/plain": [
       "                               Item_Outlet_Sales\n",
       "Outlet_Type_Grocery Store              -0.411727\n",
       "Outlet_Identifier_OUT010               -0.284883\n",
       "Outlet_Identifier_OUT019               -0.277250\n",
       "Item_Visibility                        -0.117918\n",
       "Outlet_Establishment_Year              -0.049135\n",
       "Item_Type_Baking Goods                 -0.038381\n",
       "Outlet_Identifier_OUT018               -0.038059\n",
       "Outlet_Type_Supermarket Type2          -0.038059\n",
       "Item_Type_Health and Hygiene           -0.025587\n",
       "Item_Type_Soft Drinks                  -0.024040\n",
       "Item_Type_Others                       -0.021267\n",
       "Item_Type_Frozen Foods                 -0.009482\n",
       "Item_Type_Breakfast                    -0.004656\n",
       "Item_Type_Hard Drinks                  -0.003956\n",
       "Item_Type_Meat                         -0.002995\n",
       "Outlet_Identifier_OUT045                0.002274\n",
       "Item_Type_Breads                        0.002332\n",
       "Item_Type_Seafood                       0.007380\n",
       "Item_Type_Canned                        0.007387\n",
       "Item_Type_Dairy                         0.008858"
      ]
     },
     "execution_count": 105,
     "metadata": {},
     "output_type": "execute_result"
    }
   ],
   "source": [
    "check = df.corr()\n",
    "check[['Item_Outlet_Sales']].sort_values('Item_Outlet_Sales').head(20)"
   ]
  },
  {
   "cell_type": "code",
   "execution_count": 106,
   "id": "5c5e7084",
   "metadata": {},
   "outputs": [
    {
     "data": {
      "text/html": [
       "<div>\n",
       "<style scoped>\n",
       "    .dataframe tbody tr th:only-of-type {\n",
       "        vertical-align: middle;\n",
       "    }\n",
       "\n",
       "    .dataframe tbody tr th {\n",
       "        vertical-align: top;\n",
       "    }\n",
       "\n",
       "    .dataframe thead th {\n",
       "        text-align: right;\n",
       "    }\n",
       "</style>\n",
       "<table border=\"1\" class=\"dataframe\">\n",
       "  <thead>\n",
       "    <tr style=\"text-align: right;\">\n",
       "      <th></th>\n",
       "      <th>Item_Outlet_Sales</th>\n",
       "    </tr>\n",
       "  </thead>\n",
       "  <tbody>\n",
       "    <tr>\n",
       "      <th>Item_Type_Dairy</th>\n",
       "      <td>0.008858</td>\n",
       "    </tr>\n",
       "    <tr>\n",
       "      <th>Item_Weight</th>\n",
       "      <td>0.011550</td>\n",
       "    </tr>\n",
       "    <tr>\n",
       "      <th>Item_Type_Starchy Foods</th>\n",
       "      <td>0.015039</td>\n",
       "    </tr>\n",
       "    <tr>\n",
       "      <th>Item_Type_Household</th>\n",
       "      <td>0.015701</td>\n",
       "    </tr>\n",
       "    <tr>\n",
       "      <th>Item_Fat_Content</th>\n",
       "      <td>0.018719</td>\n",
       "    </tr>\n",
       "    <tr>\n",
       "      <th>Outlet_Identifier_OUT046</th>\n",
       "      <td>0.019803</td>\n",
       "    </tr>\n",
       "    <tr>\n",
       "      <th>Item_Type_Snack Foods</th>\n",
       "      <td>0.022782</td>\n",
       "    </tr>\n",
       "    <tr>\n",
       "      <th>Outlet_Identifier_OUT013</th>\n",
       "      <td>0.024170</td>\n",
       "    </tr>\n",
       "    <tr>\n",
       "      <th>Item_Type_Fruits and Vegetables</th>\n",
       "      <td>0.025950</td>\n",
       "    </tr>\n",
       "    <tr>\n",
       "      <th>Outlet_Identifier_OUT017</th>\n",
       "      <td>0.032610</td>\n",
       "    </tr>\n",
       "    <tr>\n",
       "      <th>Outlet_Identifier_OUT049</th>\n",
       "      <td>0.034264</td>\n",
       "    </tr>\n",
       "    <tr>\n",
       "      <th>Outlet_Identifier_OUT035</th>\n",
       "      <td>0.052823</td>\n",
       "    </tr>\n",
       "    <tr>\n",
       "      <th>Outlet_Size</th>\n",
       "      <td>0.086182</td>\n",
       "    </tr>\n",
       "    <tr>\n",
       "      <th>Outlet_Location_Type</th>\n",
       "      <td>0.089367</td>\n",
       "    </tr>\n",
       "    <tr>\n",
       "      <th>Outlet_Type_Supermarket Type1</th>\n",
       "      <td>0.108765</td>\n",
       "    </tr>\n",
       "    <tr>\n",
       "      <th>Outlet_Identifier_OUT027</th>\n",
       "      <td>0.311192</td>\n",
       "    </tr>\n",
       "    <tr>\n",
       "      <th>Outlet_Type_Supermarket Type3</th>\n",
       "      <td>0.311192</td>\n",
       "    </tr>\n",
       "    <tr>\n",
       "      <th>Item_MRP</th>\n",
       "      <td>0.567574</td>\n",
       "    </tr>\n",
       "    <tr>\n",
       "      <th>Item_Outlet_Sales</th>\n",
       "      <td>1.000000</td>\n",
       "    </tr>\n",
       "  </tbody>\n",
       "</table>\n",
       "</div>"
      ],
      "text/plain": [
       "                                 Item_Outlet_Sales\n",
       "Item_Type_Dairy                           0.008858\n",
       "Item_Weight                               0.011550\n",
       "Item_Type_Starchy Foods                   0.015039\n",
       "Item_Type_Household                       0.015701\n",
       "Item_Fat_Content                          0.018719\n",
       "Outlet_Identifier_OUT046                  0.019803\n",
       "Item_Type_Snack Foods                     0.022782\n",
       "Outlet_Identifier_OUT013                  0.024170\n",
       "Item_Type_Fruits and Vegetables           0.025950\n",
       "Outlet_Identifier_OUT017                  0.032610\n",
       "Outlet_Identifier_OUT049                  0.034264\n",
       "Outlet_Identifier_OUT035                  0.052823\n",
       "Outlet_Size                               0.086182\n",
       "Outlet_Location_Type                      0.089367\n",
       "Outlet_Type_Supermarket Type1             0.108765\n",
       "Outlet_Identifier_OUT027                  0.311192\n",
       "Outlet_Type_Supermarket Type3             0.311192\n",
       "Item_MRP                                  0.567574\n",
       "Item_Outlet_Sales                         1.000000"
      ]
     },
     "execution_count": 106,
     "metadata": {},
     "output_type": "execute_result"
    }
   ],
   "source": [
    "check[['Item_Outlet_Sales']].sort_values('Item_Outlet_Sales').tail(19)"
   ]
  },
  {
   "cell_type": "code",
   "execution_count": 107,
   "id": "79cf1b2f",
   "metadata": {},
   "outputs": [
    {
     "data": {
      "text/plain": [
       "<AxesSubplot:>"
      ]
     },
     "execution_count": 107,
     "metadata": {},
     "output_type": "execute_result"
    },
    {
     "data": {
      "image/png": "[encoded data removed]",
      "text/plain": [
       "<Figure size 2300x100 with 2 Axes>"
      ]
     },
     "metadata": {},
     "output_type": "display_data"
    }
   ],
   "source": [
    "Outlate_items_linearty = df.drop('Item_Outlet_Sales', axis= 1)   \n",
    "Outlate_items_column  = df['Item_Outlet_Sales']\n",
    "Outlate_items_linearty.insert(37,'Item_Outlet_Sales',Outlate_items_column,allow_duplicates=True)  \n",
    "Outlate_items_linearty\n",
    "\n",
    "corr_with_Outlate_items = Outlate_items_linearty.corr().tail(1).sort_values('Item_Outlet_Sales', axis=1) # linearity with dependent variable\n",
    "plt.figure(figsize=(23,1))\n",
    "sns.heatmap(corr_with_Outlate_items, annot= True)"
   ]
  },
  {
   "cell_type": "markdown",
   "id": "8f348b5e",
   "metadata": {},
   "source": [
    "## 2.NO MULTICOLINEARITY:"
   ]
  },
  {
   "cell_type": "code",
   "execution_count": 108,
   "id": "98210f82",
   "metadata": {},
   "outputs": [
    {
     "data": {
      "text/plain": [
       "<AxesSubplot:>"
      ]
     },
     "execution_count": 108,
     "metadata": {},
     "output_type": "execute_result"
    },
    {
     "data": {
      "image/png": "[encoded data removed]",
      "text/plain": [
       "<Figure size 640x480 with 1 Axes>"
      ]
     },
     "metadata": {},
     "output_type": "display_data"
    }
   ],
   "source": [
    "df1 = df.drop('Item_Outlet_Sales', axis=1)\n",
    "\n",
    "vif_list = []\n",
    "for i in range(df1.shape[1]):\n",
    "    \n",
    "    vif = variance_inflation_factor(df1,i)\n",
    "    vif_list.append(vif)\n",
    "    \n",
    "s1 = pd.Series(vif_list, index=df1.columns)\n",
    "# s1\n",
    "s1.sort_values().plot(kind = \"barh\")"
   ]
  },
  {
   "cell_type": "markdown",
   "id": "9b9de71c",
   "metadata": {},
   "source": [
    "# MODEL BUILDING:-"
   ]
  },
  {
   "cell_type": "code",
   "execution_count": 109,
   "id": "f3893e7c",
   "metadata": {},
   "outputs": [],
   "source": [
    "x = df.drop('Item_Outlet_Sales', axis=1)     \n",
    "y = df['Item_Outlet_Sales']  "
   ]
  },
  {
   "cell_type": "code",
   "execution_count": 110,
   "id": "84fcedae",
   "metadata": {},
   "outputs": [],
   "source": [
    "# Train Test Split\n",
    "x_train, x_test, y_train, y_test = train_test_split(x,y,test_size=0.25, random_state=9)"
   ]
  },
  {
   "cell_type": "code",
   "execution_count": 111,
   "id": "1ec01254",
   "metadata": {},
   "outputs": [
    {
     "data": {
      "text/plain": [
       "LinearRegression()"
      ]
     },
     "execution_count": 111,
     "metadata": {},
     "output_type": "execute_result"
    }
   ],
   "source": [
    "model = LinearRegression()    \n",
    "\n",
    "model.fit(x_train, y_train)"
   ]
  },
  {
   "cell_type": "markdown",
   "id": "45880aa2",
   "metadata": {},
   "source": [
    "# Model Evaluation"
   ]
  },
  {
   "cell_type": "markdown",
   "id": "8de7f5f5",
   "metadata": {},
   "source": [
    "## On Training Data"
   ]
  },
  {
   "cell_type": "code",
   "execution_count": 112,
   "id": "71c6d2ba",
   "metadata": {},
   "outputs": [
    {
     "name": "stdout",
     "output_type": "stream",
     "text": [
      "MSE : 1262126.6698272373\n",
      "RMSE : 1123.4441106825195\n",
      "MAE : 827.3780058700146\n",
      "Training Accuracy : 0.5666770655079655\n"
     ]
    }
   ],
   "source": [
    "y_pred_train = model.predict(x_train)\n",
    "\n",
    "mse = mean_squared_error(y_train, y_pred_train)\n",
    "print(\"MSE :\",mse)\n",
    "\n",
    "rmse = np.sqrt(mse)\n",
    "print(\"RMSE :\",rmse)\n",
    "\n",
    "mae = mean_absolute_error(y_train, y_pred_train)\n",
    "print(\"MAE :\",mae)\n",
    "\n",
    "Training_Accuracy_r2 = r2_score(y_train, y_pred_train)\n",
    "print(\"Training Accuracy :\",Training_Accuracy_r2)"
   ]
  },
  {
   "cell_type": "code",
   "execution_count": 113,
   "id": "06dcbadf",
   "metadata": {},
   "outputs": [
    {
     "name": "stdout",
     "output_type": "stream",
     "text": [
      "MSE : 1298121.5697360022\n",
      "RMSE : 1139.3513811533307\n",
      "MAE : 861.6233709451512\n",
      "Testing Accuracy  : 0.5537852852306817\n"
     ]
    }
   ],
   "source": [
    "y_pred_test = model.predict(x_test)\n",
    "\n",
    "mse = mean_squared_error(y_test, y_pred_test)\n",
    "print(\"MSE :\",mse)\n",
    "\n",
    "rmse = np.sqrt(mse)\n",
    "print(\"RMSE :\",rmse)\n",
    "\n",
    "mae = mean_absolute_error(y_test, y_pred_test)\n",
    "print(\"MAE :\",mae)\n",
    "\n",
    "Testing_Accuracy_r2 = r2_score(y_test, y_pred_test)\n",
    "print(\"Testing Accuracy  :\",Testing_Accuracy_r2 )"
   ]
  },
  {
   "cell_type": "raw",
   "id": "98a6dd54",
   "metadata": {},
   "source": []
  },
  {
   "cell_type": "markdown",
   "id": "51640876",
   "metadata": {},
   "source": [
    "## Normality of Residual"
   ]
  },
  {
   "cell_type": "markdown",
   "id": "30481156",
   "metadata": {},
   "source": [
    "### 1. kdeplot"
   ]
  },
  {
   "cell_type": "code",
   "execution_count": 114,
   "id": "9cb93974",
   "metadata": {},
   "outputs": [],
   "source": [
    "Residual = y_train - y_pred_train\n",
    "# Residual\n"
   ]
  },
  {
   "cell_type": "code",
   "execution_count": 115,
   "id": "abad5462",
   "metadata": {},
   "outputs": [
    {
     "data": {
      "text/plain": [
       "<AxesSubplot:xlabel='Item_Outlet_Sales', ylabel='Density'>"
      ]
     },
     "execution_count": 115,
     "metadata": {},
     "output_type": "execute_result"
    },
    {
     "data": {
      "image/png": "[encoded data removed]",
      "text/plain": [
       "<Figure size 500x200 with 1 Axes>"
      ]
     },
     "metadata": {},
     "output_type": "display_data"
    }
   ],
   "source": [
    "plt.figure(figsize=(5,2))\n",
    "sns.kdeplot(Residual, fill=True)"
   ]
  },
  {
   "cell_type": "code",
   "execution_count": 116,
   "id": "91c55cbb",
   "metadata": {},
   "outputs": [
    {
     "data": {
      "text/plain": [
       "<AxesSubplot:xlabel='Item_Outlet_Sales', ylabel='Density'>"
      ]
     },
     "execution_count": 116,
     "metadata": {},
     "output_type": "execute_result"
    },
    {
     "data": {
      "image/png": "[encoded data removed]",
      "text/plain": [
       "<Figure size 500x200 with 1 Axes>"
      ]
     },
     "metadata": {},
     "output_type": "display_data"
    }
   ],
   "source": [
    "plt.figure(figsize=(5,2))\n",
    "sns.distplot(Residual)"
   ]
  },
  {
   "cell_type": "markdown",
   "id": "7b4644e8",
   "metadata": {},
   "source": [
    "## 2.Hypothesis Testing"
   ]
  },
  {
   "cell_type": "code",
   "execution_count": 117,
   "id": "a0965607",
   "metadata": {},
   "outputs": [
    {
     "name": "stdout",
     "output_type": "stream",
     "text": [
      "P_Value: 2.252681816359663e-35\n",
      "Null Hypothesis is Rejected \n",
      "Data is NOT Normally Distributed\n"
     ]
    }
   ],
   "source": [
    "# shapiro Test\n",
    "\n",
    "_ , p_val = shapiro(Residual)\n",
    "\n",
    "print(\"P_Value:\",p_val)\n",
    "\n",
    "if p_val >= 0.05:\n",
    "    print(\"Null Hypothesis is Accepted\")\n",
    "    print(\"Which suggest that Data is Normally Distributed\")\n",
    "    \n",
    "else:\n",
    "    print(\"Null Hypothesis is Rejected \")\n",
    "    print(\"Data is NOT Normally Distributed\")"
   ]
  },
  {
   "cell_type": "code",
   "execution_count": 118,
   "id": "6eed61ec",
   "metadata": {},
   "outputs": [
    {
     "name": "stdout",
     "output_type": "stream",
     "text": [
      "P_Value: 0.0\n",
      "Alternate Hypothesis is Accepted\n",
      "Data is NOT Normally Distributed\n"
     ]
    }
   ],
   "source": [
    "# ks Test\n",
    "\n",
    "_ , p_val = kstest(Residual, 'norm')\n",
    "\n",
    "print(\"P_Value:\",p_val)\n",
    "\n",
    "if p_val >= 0.05:\n",
    "    print(\"Null Hypothesis is Accepted\")\n",
    "    print(\"Which suggest that Data is Normally Distributed\")\n",
    "    \n",
    "else:\n",
    "    print(\"Alternate Hypothesis is Accepted\")\n",
    "    print(\"Data is NOT Normally Distributed\")"
   ]
  },
  {
   "cell_type": "code",
   "execution_count": 119,
   "id": "8b73017b",
   "metadata": {},
   "outputs": [
    {
     "name": "stdout",
     "output_type": "stream",
     "text": [
      "P_Value: 4.355875180997988e-174\n",
      "Alternate Hypothesis is Accepted\n",
      "Data is NOT Normally Distributed\n"
     ]
    }
   ],
   "source": [
    "# normaltest\n",
    "\n",
    "_ , p_val = normaltest(Residual)\n",
    "\n",
    "print(\"P_Value:\",p_val)\n",
    "\n",
    "if p_val >= 0.05:\n",
    "    print(\"Null Hypothesis is Accepted\")\n",
    "    print(\"Which suggest that Data is Normally Distributed\")\n",
    "    \n",
    "else:\n",
    "    print(\"Alternate Hypothesis is Accepted\")\n",
    "    print(\"Data is NOT Normally Distributed\")"
   ]
  },
  {
   "cell_type": "markdown",
   "id": "892f0612",
   "metadata": {},
   "source": [
    "## QQ Plot"
   ]
  },
  {
   "cell_type": "code",
   "execution_count": 120,
   "id": "44703b5d",
   "metadata": {},
   "outputs": [
    {
     "data": {
      "image/png": "[encoded data removed]",
      "text/plain": [
       "<Figure size 640x480 with 1 Axes>"
      ]
     },
     "execution_count": 120,
     "metadata": {},
     "output_type": "execute_result"
    },
    {
     "data": {
      "image/png": "[encoded data removed]",
      "text/plain": [
       "<Figure size 640x480 with 1 Axes>"
      ]
     },
     "metadata": {},
     "output_type": "display_data"
    }
   ],
   "source": [
    "sm.qqplot(Residual, line = '45', fit=True) "
   ]
  },
  {
   "cell_type": "markdown",
   "id": "172e6d6c",
   "metadata": {},
   "source": [
    "## Homoscedasticity"
   ]
  },
  {
   "cell_type": "code",
   "execution_count": 121,
   "id": "a1aa54d0",
   "metadata": {},
   "outputs": [
    {
     "data": {
      "text/plain": [
       "<AxesSubplot:xlabel='Item_Outlet_Sales', ylabel='Item_Outlet_Sales'>"
      ]
     },
     "execution_count": 121,
     "metadata": {},
     "output_type": "execute_result"
    },
    {
     "data": {
      "image/png": "[encoded data removed]",
      "text/plain": [
       "<Figure size 640x480 with 1 Axes>"
      ]
     },
     "metadata": {},
     "output_type": "display_data"
    }
   ],
   "source": [
    "sns.scatterplot(x = y_train, y= Residual)"
   ]
  },
  {
   "cell_type": "raw",
   "id": "ea135759",
   "metadata": {},
   "source": [
    "-lets check for Regularization technique."
   ]
  },
  {
   "cell_type": "markdown",
   "id": "3a287b2b",
   "metadata": {},
   "source": [
    "# Ridge Regression Model"
   ]
  },
  {
   "cell_type": "code",
   "execution_count": 122,
   "id": "934341b8",
   "metadata": {},
   "outputs": [
    {
     "data": {
      "text/plain": [
       "Ridge()"
      ]
     },
     "execution_count": 122,
     "metadata": {},
     "output_type": "execute_result"
    }
   ],
   "source": [
    "ridge_reg_model = Ridge(alpha= 1.0)\n",
    "ridge_reg_model.fit(x_train, y_train)"
   ]
  },
  {
   "cell_type": "code",
   "execution_count": 123,
   "id": "0d3a2501",
   "metadata": {},
   "outputs": [
    {
     "data": {
      "text/plain": [
       "<AxesSubplot:>"
      ]
     },
     "execution_count": 123,
     "metadata": {},
     "output_type": "execute_result"
    },
    {
     "data": {
      "image/png": "[encoded data removed]",
      "text/plain": [
       "<Figure size 600x400 with 1 Axes>"
      ]
     },
     "metadata": {},
     "output_type": "display_data"
    }
   ],
   "source": [
    "s2 = pd.Series(ridge_reg_model.coef_, index=x.columns)\n",
    "plt.figure(figsize=(6,4))\n",
    "s2.sort_values().plot(kind = \"barh\")"
   ]
  },
  {
   "cell_type": "markdown",
   "id": "159648c5",
   "metadata": {},
   "source": [
    "# Model evaluation "
   ]
  },
  {
   "cell_type": "markdown",
   "id": "f6a9e4e8",
   "metadata": {},
   "source": [
    "###  Training Data"
   ]
  },
  {
   "cell_type": "code",
   "execution_count": 124,
   "id": "4a1d4d41",
   "metadata": {},
   "outputs": [
    {
     "name": "stdout",
     "output_type": "stream",
     "text": [
      "MSE : 1262127.704512245\n",
      "RMSE : 1123.4445711793016\n",
      "MAE : 827.3580904003617\n",
      "Training Ridge Accuracy : 0.5666767102720335\n"
     ]
    }
   ],
   "source": [
    "y_pred_train = ridge_reg_model.predict(x_train)\n",
    "\n",
    "mse = mean_squared_error(y_train, y_pred_train)\n",
    "print(\"MSE :\",mse)\n",
    "\n",
    "rmse = np.sqrt(mse)\n",
    "print(\"RMSE :\",rmse)\n",
    "\n",
    "mae = mean_absolute_error(y_train, y_pred_train)\n",
    "print(\"MAE :\",mae)\n",
    "\n",
    "Training_Ridge_Accuracy_r2 = r2_score(y_train, y_pred_train)\n",
    "print(\"Training Ridge Accuracy :\", Training_Ridge_Accuracy_r2)"
   ]
  },
  {
   "cell_type": "markdown",
   "id": "6794d99c",
   "metadata": {},
   "source": [
    "## Testing Data"
   ]
  },
  {
   "cell_type": "code",
   "execution_count": 125,
   "id": "70d3f2c9",
   "metadata": {},
   "outputs": [
    {
     "name": "stdout",
     "output_type": "stream",
     "text": [
      "MSE : 1298056.0226608862\n",
      "RMSE : 1139.3226157067568\n",
      "MAE : 861.5588364728897\n",
      "Testing RidgeAccuracy : 0.5538078163018145\n"
     ]
    }
   ],
   "source": [
    "y_pred_test = ridge_reg_model.predict(x_test)\n",
    "\n",
    "mse = mean_squared_error(y_test, y_pred_test)\n",
    "print(\"MSE :\",mse)\n",
    "\n",
    "rmse = np.sqrt(mse)\n",
    "print(\"RMSE :\",rmse)\n",
    "\n",
    "mae = mean_absolute_error(y_test, y_pred_test)\n",
    "print(\"MAE :\",mae)\n",
    "\n",
    "Testing_Ridge_Accuracy_r2 = r2_score(y_test, y_pred_test)\n",
    "print(\"Testing RidgeAccuracy :\", Testing_Ridge_Accuracy_r2)"
   ]
  },
  {
   "cell_type": "markdown",
   "id": "c0a1c330",
   "metadata": {},
   "source": [
    "# Lasso Regression Model"
   ]
  },
  {
   "cell_type": "code",
   "execution_count": 126,
   "id": "5924282f",
   "metadata": {},
   "outputs": [
    {
     "data": {
      "text/plain": [
       "Lasso()"
      ]
     },
     "execution_count": 126,
     "metadata": {},
     "output_type": "execute_result"
    }
   ],
   "source": [
    "lasso_reg_model = Lasso(alpha= 1.0) \n",
    "lasso_reg_model.fit(x_train, y_train)"
   ]
  },
  {
   "cell_type": "markdown",
   "id": "9bc5a9aa",
   "metadata": {},
   "source": [
    "# Model evaluation"
   ]
  },
  {
   "cell_type": "markdown",
   "id": "2fa2416f",
   "metadata": {},
   "source": [
    "### Training Data"
   ]
  },
  {
   "cell_type": "code",
   "execution_count": 127,
   "id": "57c7a9bd",
   "metadata": {},
   "outputs": [
    {
     "name": "stdout",
     "output_type": "stream",
     "text": [
      "MSE : 1262748.4190674676\n",
      "RMSE : 1123.7207923089559\n",
      "MAE : 827.5451516444277\n",
      "Training Lasso Accuracy : 0.5664636018265968\n"
     ]
    }
   ],
   "source": [
    "y_pred_train = lasso_reg_model.predict(x_train)\n",
    "\n",
    "mse = mean_squared_error(y_train, y_pred_train)\n",
    "print(\"MSE :\",mse)\n",
    "\n",
    "rmse = np.sqrt(mse)\n",
    "print(\"RMSE :\",rmse)\n",
    "\n",
    "mae = mean_absolute_error(y_train, y_pred_train)\n",
    "print(\"MAE :\",mae)\n",
    "\n",
    "Training_Lasso_Accuracy_r2 = r2_score(y_train, y_pred_train)\n",
    "print(\"Training Lasso Accuracy :\", Training_Lasso_Accuracy_r2)"
   ]
  },
  {
   "cell_type": "markdown",
   "id": "98c2bcb7",
   "metadata": {},
   "source": [
    "### Testing Data"
   ]
  },
  {
   "cell_type": "code",
   "execution_count": 128,
   "id": "6f58856c",
   "metadata": {},
   "outputs": [
    {
     "name": "stdout",
     "output_type": "stream",
     "text": [
      "MSE : 1296619.8896997552\n",
      "RMSE : 1138.6921839108913\n",
      "MAE : 860.9922060991258\n",
      "Testing Lasso Accuracy : 0.5543014708828351\n"
     ]
    }
   ],
   "source": [
    "y_pred_test = lasso_reg_model.predict(x_test)\n",
    "\n",
    "mse = mean_squared_error(y_test, y_pred_test)\n",
    "print(\"MSE :\",mse)\n",
    "\n",
    "rmse = np.sqrt(mse)\n",
    "print(\"RMSE :\",rmse)\n",
    "\n",
    "mae = mean_absolute_error(y_test, y_pred_test)\n",
    "print(\"MAE :\",mae)\n",
    "\n",
    "Testing_Lasso_Accuracy_r2 = r2_score(y_test, y_pred_test)\n",
    "print(\"Testing Lasso Accuracy :\", Testing_Lasso_Accuracy_r2)"
   ]
  },
  {
   "cell_type": "markdown",
   "id": "2b5623a8",
   "metadata": {},
   "source": [
    "# Hyperparameter Tunning"
   ]
  },
  {
   "cell_type": "markdown",
   "id": "c2295ee7",
   "metadata": {},
   "source": [
    "## Ridge Regression"
   ]
  },
  {
   "cell_type": "markdown",
   "id": "d52037aa",
   "metadata": {},
   "source": [
    "### 1.GridSearchCv"
   ]
  },
  {
   "cell_type": "code",
   "execution_count": 129,
   "id": "52382799",
   "metadata": {},
   "outputs": [
    {
     "data": {
      "text/plain": [
       "GridSearchCV(estimator=Ridge(), n_jobs=-1,\n",
       "             param_grid={'alpha': array([0.01, 0.02, 0.03, 0.04, 0.05, 0.06, 0.07, 0.08, 0.09, 0.1 , 0.11,\n",
       "       0.12, 0.13, 0.14, 0.15, 0.16, 0.17, 0.18, 0.19, 0.2 , 0.21, 0.22,\n",
       "       0.23, 0.24, 0.25, 0.26, 0.27, 0.28, 0.29, 0.3 , 0.31, 0.32, 0.33,\n",
       "       0.34, 0.35, 0.36, 0.37, 0.38, 0.39, 0.4 , 0.41, 0.42, 0.43, 0.44,\n",
       "       0.45, 0.46, 0.47, 0.48, 0.49, 0.5 , 0.51, 0.52, 0.53, 0.54, 0.55,\n",
       "       0.56, 0.57, 0....\n",
       "       2.21, 2.22, 2.23, 2.24, 2.25, 2.26, 2.27, 2.28, 2.29, 2.3 , 2.31,\n",
       "       2.32, 2.33, 2.34, 2.35, 2.36, 2.37, 2.38, 2.39, 2.4 , 2.41, 2.42,\n",
       "       2.43, 2.44, 2.45, 2.46, 2.47, 2.48, 2.49, 2.5 , 2.51, 2.52, 2.53,\n",
       "       2.54, 2.55, 2.56, 2.57, 2.58, 2.59, 2.6 , 2.61, 2.62, 2.63, 2.64,\n",
       "       2.65, 2.66, 2.67, 2.68, 2.69, 2.7 , 2.71, 2.72, 2.73, 2.74, 2.75,\n",
       "       2.76, 2.77, 2.78, 2.79, 2.8 , 2.81, 2.82, 2.83, 2.84, 2.85, 2.86,\n",
       "       2.87, 2.88, 2.89, 2.9 , 2.91, 2.92, 2.93, 2.94, 2.95, 2.96, 2.97,\n",
       "       2.98, 2.99])})"
      ]
     },
     "execution_count": 129,
     "metadata": {},
     "output_type": "execute_result"
    }
   ],
   "source": [
    "ridge_model = Ridge() \n",
    "\n",
    "param_grid = {\"alpha\": np.arange(0.01,3,0.01)}  \n",
    "\n",
    "gscv_ridge_model = GridSearchCV(ridge_model, param_grid, n_jobs=-1)\n",
    "\n",
    "gscv_ridge_model.fit(x_train, y_train)"
   ]
  },
  {
   "cell_type": "code",
   "execution_count": 130,
   "id": "483bd9b3",
   "metadata": {},
   "outputs": [
    {
     "data": {
      "text/plain": [
       "Ridge(alpha=2.9899999999999998)"
      ]
     },
     "execution_count": 130,
     "metadata": {},
     "output_type": "execute_result"
    }
   ],
   "source": [
    "gscv_ridge_model.best_estimator_ "
   ]
  },
  {
   "cell_type": "code",
   "execution_count": 131,
   "id": "6cfc4f36",
   "metadata": {},
   "outputs": [
    {
     "data": {
      "text/plain": [
       "Ridge(alpha=2.9899999999999998)"
      ]
     },
     "execution_count": 131,
     "metadata": {},
     "output_type": "execute_result"
    }
   ],
   "source": [
    "ridge_reg_model = Ridge(alpha= 2.9899999999999998)\n",
    "ridge_reg_model.fit(x_train, y_train)"
   ]
  },
  {
   "cell_type": "markdown",
   "id": "bd13f87b",
   "metadata": {},
   "source": [
    "# Model evaluation"
   ]
  },
  {
   "cell_type": "markdown",
   "id": "b922e716",
   "metadata": {},
   "source": [
    "### Training Data"
   ]
  },
  {
   "cell_type": "code",
   "execution_count": 132,
   "id": "602d3fbf",
   "metadata": {},
   "outputs": [
    {
     "name": "stdout",
     "output_type": "stream",
     "text": [
      "MSE : 1262135.0323488996\n",
      "RMSE : 1123.4478324999784\n",
      "MAE : 827.317806250782\n",
      "Training Ridge GridSerchCv Accuracy : 0.56667419442338\n"
     ]
    }
   ],
   "source": [
    "y_pred_train = ridge_reg_model.predict(x_train)\n",
    "\n",
    "mse = mean_squared_error(y_train, y_pred_train)\n",
    "print(\"MSE :\",mse)\n",
    "\n",
    "rmse = np.sqrt(mse)\n",
    "print(\"RMSE :\",rmse)\n",
    "\n",
    "mae = mean_absolute_error(y_train, y_pred_train)\n",
    "print(\"MAE :\",mae)\n",
    "\n",
    "Training_Ridge_Grid_Accuracy_r2 = r2_score(y_train, y_pred_train)\n",
    "print(\"Training Ridge GridSerchCv Accuracy :\", Training_Ridge_Grid_Accuracy_r2)"
   ]
  },
  {
   "cell_type": "markdown",
   "id": "c0d7e6ba",
   "metadata": {},
   "source": [
    "### Testing Data"
   ]
  },
  {
   "cell_type": "code",
   "execution_count": 133,
   "id": "179614db",
   "metadata": {},
   "outputs": [
    {
     "name": "stdout",
     "output_type": "stream",
     "text": [
      "MSE : 1297928.0666564282\n",
      "RMSE : 1139.2664599014702\n",
      "MAE : 861.435651521312\n",
      "Testing Ridge GridSearchCv Accuracy : 0.5538517997417045\n"
     ]
    }
   ],
   "source": [
    "y_pred_test = ridge_reg_model.predict(x_test)\n",
    "\n",
    "mse = mean_squared_error(y_test, y_pred_test)\n",
    "print(\"MSE :\",mse)\n",
    "\n",
    "rmse = np.sqrt(mse)\n",
    "print(\"RMSE :\",rmse)\n",
    "\n",
    "mae = mean_absolute_error(y_test, y_pred_test)\n",
    "print(\"MAE :\",mae)\n",
    "\n",
    "Testing_Ridge_Grid_Accuracy_r2 = r2_score(y_test, y_pred_test)\n",
    "print(\"Testing Ridge GridSearchCv Accuracy :\", Testing_Ridge_Grid_Accuracy_r2)"
   ]
  },
  {
   "cell_type": "markdown",
   "id": "c4caaf71",
   "metadata": {},
   "source": [
    "## 2.RandomizedSearchCV"
   ]
  },
  {
   "cell_type": "code",
   "execution_count": 134,
   "id": "bf2a378c",
   "metadata": {},
   "outputs": [
    {
     "data": {
      "text/plain": [
       "RandomizedSearchCV(estimator=Ridge(), n_jobs=-1,\n",
       "                   param_distributions={'alpha': array([0.01, 0.02, 0.03, 0.04, 0.05, 0.06, 0.07, 0.08, 0.09, 0.1 , 0.11,\n",
       "       0.12, 0.13, 0.14, 0.15, 0.16, 0.17, 0.18, 0.19, 0.2 , 0.21, 0.22,\n",
       "       0.23, 0.24, 0.25, 0.26, 0.27, 0.28, 0.29, 0.3 , 0.31, 0.32, 0.33,\n",
       "       0.34, 0.35, 0.36, 0.37, 0.38, 0.39, 0.4 , 0.41, 0.42, 0.43, 0.44,\n",
       "       0.45, 0.46, 0.47, 0.48, 0.49, 0.5 , 0.51, 0.52, 0.53, 0.54, 0....\n",
       "       2.21, 2.22, 2.23, 2.24, 2.25, 2.26, 2.27, 2.28, 2.29, 2.3 , 2.31,\n",
       "       2.32, 2.33, 2.34, 2.35, 2.36, 2.37, 2.38, 2.39, 2.4 , 2.41, 2.42,\n",
       "       2.43, 2.44, 2.45, 2.46, 2.47, 2.48, 2.49, 2.5 , 2.51, 2.52, 2.53,\n",
       "       2.54, 2.55, 2.56, 2.57, 2.58, 2.59, 2.6 , 2.61, 2.62, 2.63, 2.64,\n",
       "       2.65, 2.66, 2.67, 2.68, 2.69, 2.7 , 2.71, 2.72, 2.73, 2.74, 2.75,\n",
       "       2.76, 2.77, 2.78, 2.79, 2.8 , 2.81, 2.82, 2.83, 2.84, 2.85, 2.86,\n",
       "       2.87, 2.88, 2.89, 2.9 , 2.91, 2.92, 2.93, 2.94, 2.95, 2.96, 2.97,\n",
       "       2.98, 2.99])})"
      ]
     },
     "execution_count": 134,
     "metadata": {},
     "output_type": "execute_result"
    }
   ],
   "source": [
    "ridge_model = Ridge()   # Model instance\n",
    "\n",
    "param_grid = {\"alpha\": np.arange(0.01,3,0.01)}\n",
    "\n",
    "rscv_ridge_model = RandomizedSearchCV(ridge_model, param_grid, n_jobs=-1)\n",
    "\n",
    "rscv_ridge_model.fit(x_train, y_train)"
   ]
  },
  {
   "cell_type": "code",
   "execution_count": 135,
   "id": "07c6fc6d",
   "metadata": {},
   "outputs": [
    {
     "data": {
      "text/plain": [
       "Ridge(alpha=2.8699999999999997)"
      ]
     },
     "execution_count": 135,
     "metadata": {},
     "output_type": "execute_result"
    }
   ],
   "source": [
    "rscv_ridge_model.best_estimator_ "
   ]
  },
  {
   "cell_type": "code",
   "execution_count": 136,
   "id": "b70a4f98",
   "metadata": {},
   "outputs": [
    {
     "data": {
      "text/plain": [
       "Ridge(alpha=2.9)"
      ]
     },
     "execution_count": 136,
     "metadata": {},
     "output_type": "execute_result"
    }
   ],
   "source": [
    "ridge_reg_model = Ridge(alpha= 2.9)  \n",
    "\n",
    "ridge_reg_model.fit(x_train, y_train)"
   ]
  },
  {
   "cell_type": "markdown",
   "id": "f9f7ab2c",
   "metadata": {},
   "source": [
    "# Model evaluation"
   ]
  },
  {
   "cell_type": "markdown",
   "id": "833c09c8",
   "metadata": {},
   "source": [
    "### Training Data"
   ]
  },
  {
   "cell_type": "code",
   "execution_count": 137,
   "id": "f67b1d50",
   "metadata": {},
   "outputs": [
    {
     "name": "stdout",
     "output_type": "stream",
     "text": [
      "MSE : 1262134.568969552\n",
      "RMSE : 1123.447626269045\n",
      "MAE : 827.3196547857477\n",
      "Training Ridge Random Accuracy : 0.5666743535143046\n"
     ]
    }
   ],
   "source": [
    "y_pred_train = ridge_reg_model.predict(x_train)\n",
    "\n",
    "mse = mean_squared_error(y_train, y_pred_train)\n",
    "print(\"MSE :\",mse)\n",
    "\n",
    "rmse = np.sqrt(mse)\n",
    "print(\"RMSE :\",rmse)\n",
    "\n",
    "mae = mean_absolute_error(y_train, y_pred_train)\n",
    "print(\"MAE :\",mae)\n",
    "\n",
    "Training_Ridge_Random_Accuracy_r2 = r2_score(y_train, y_pred_train)\n",
    "print(\"Training Ridge Random Accuracy :\", Training_Ridge_Random_Accuracy_r2)"
   ]
  },
  {
   "cell_type": "markdown",
   "id": "611b5fda",
   "metadata": {},
   "source": [
    "### Testing Data"
   ]
  },
  {
   "cell_type": "code",
   "execution_count": 138,
   "id": "bf97ceff",
   "metadata": {},
   "outputs": [
    {
     "name": "stdout",
     "output_type": "stream",
     "text": [
      "MSE : 1297933.7689879541\n",
      "RMSE : 1139.2689625316552\n",
      "MAE : 861.441091011444\n",
      "Testing Ridge Random Accuracy : 0.5538498396292661\n"
     ]
    }
   ],
   "source": [
    "y_pred_test = ridge_reg_model.predict(x_test)\n",
    "\n",
    "mse = mean_squared_error(y_test, y_pred_test)\n",
    "print(\"MSE :\",mse)\n",
    "\n",
    "rmse = np.sqrt(mse)\n",
    "print(\"RMSE :\",rmse)\n",
    "\n",
    "mae = mean_absolute_error(y_test, y_pred_test)\n",
    "print(\"MAE :\",mae)\n",
    "\n",
    "Testing_Ridge_Random_Accuracy_r2 = r2_score(y_test, y_pred_test)\n",
    "print(\"Testing Ridge Random Accuracy :\", Testing_Ridge_Random_Accuracy_r2)"
   ]
  },
  {
   "cell_type": "markdown",
   "id": "bd7ea9b1",
   "metadata": {},
   "source": [
    "# Lasso Regression"
   ]
  },
  {
   "cell_type": "markdown",
   "id": "c7eb9af5",
   "metadata": {},
   "source": [
    "## 1.GridSearchCv"
   ]
  },
  {
   "cell_type": "code",
   "execution_count": 139,
   "id": "7a8e0d6d",
   "metadata": {},
   "outputs": [
    {
     "data": {
      "text/plain": [
       "GridSearchCV(estimator=Lasso(), n_jobs=-1,\n",
       "             param_grid={'alpha': array([0.01, 0.02, 0.03, 0.04, 0.05, 0.06, 0.07, 0.08, 0.09, 0.1 , 0.11,\n",
       "       0.12, 0.13, 0.14, 0.15, 0.16, 0.17, 0.18, 0.19, 0.2 , 0.21, 0.22,\n",
       "       0.23, 0.24, 0.25, 0.26, 0.27, 0.28, 0.29, 0.3 , 0.31, 0.32, 0.33,\n",
       "       0.34, 0.35, 0.36, 0.37, 0.38, 0.39, 0.4 , 0.41, 0.42, 0.43, 0.44,\n",
       "       0.45, 0.46, 0.47, 0.48, 0.49, 0.5 , 0.51, 0.52, 0.53, 0.54, 0.55,\n",
       "       0.56, 0.57, 0....\n",
       "       2.21, 2.22, 2.23, 2.24, 2.25, 2.26, 2.27, 2.28, 2.29, 2.3 , 2.31,\n",
       "       2.32, 2.33, 2.34, 2.35, 2.36, 2.37, 2.38, 2.39, 2.4 , 2.41, 2.42,\n",
       "       2.43, 2.44, 2.45, 2.46, 2.47, 2.48, 2.49, 2.5 , 2.51, 2.52, 2.53,\n",
       "       2.54, 2.55, 2.56, 2.57, 2.58, 2.59, 2.6 , 2.61, 2.62, 2.63, 2.64,\n",
       "       2.65, 2.66, 2.67, 2.68, 2.69, 2.7 , 2.71, 2.72, 2.73, 2.74, 2.75,\n",
       "       2.76, 2.77, 2.78, 2.79, 2.8 , 2.81, 2.82, 2.83, 2.84, 2.85, 2.86,\n",
       "       2.87, 2.88, 2.89, 2.9 , 2.91, 2.92, 2.93, 2.94, 2.95, 2.96, 2.97,\n",
       "       2.98, 2.99])})"
      ]
     },
     "execution_count": 139,
     "metadata": {},
     "output_type": "execute_result"
    }
   ],
   "source": [
    "lasso_model = Lasso()\n",
    "\n",
    "param_grid = {\"alpha\": np.arange(0.01,3,0.01)}\n",
    "\n",
    "gscv_lasso_model = GridSearchCV(lasso_model, param_grid, n_jobs=-1)\n",
    "\n",
    "gscv_lasso_model.fit(x_train, y_train)  "
   ]
  },
  {
   "cell_type": "code",
   "execution_count": 140,
   "id": "9e92311b",
   "metadata": {},
   "outputs": [
    {
     "data": {
      "text/plain": [
       "Lasso(alpha=2.9899999999999998)"
      ]
     },
     "execution_count": 140,
     "metadata": {},
     "output_type": "execute_result"
    }
   ],
   "source": [
    "gscv_lasso_model.best_estimator_"
   ]
  },
  {
   "cell_type": "code",
   "execution_count": 141,
   "id": "1b2ca897",
   "metadata": {},
   "outputs": [
    {
     "data": {
      "text/plain": [
       "Lasso(alpha=2.9899999999999998)"
      ]
     },
     "execution_count": 141,
     "metadata": {},
     "output_type": "execute_result"
    }
   ],
   "source": [
    "lasso_reg_model = Lasso(alpha= 2.9899999999999998)  \n",
    "lasso_reg_model.fit(x_train, y_train)"
   ]
  },
  {
   "cell_type": "markdown",
   "id": "83546381",
   "metadata": {},
   "source": [
    "# Model evaluation"
   ]
  },
  {
   "cell_type": "markdown",
   "id": "26b2d39d",
   "metadata": {},
   "source": [
    "### Training Data"
   ]
  },
  {
   "cell_type": "code",
   "execution_count": 142,
   "id": "466892be",
   "metadata": {},
   "outputs": [
    {
     "name": "stdout",
     "output_type": "stream",
     "text": [
      "MSE : 1264004.8310775456\n",
      "RMSE : 1124.279694327682\n",
      "MAE : 827.2503807761611\n",
      "Training Lasso Grid Accuracy : 0.5660322408925849\n"
     ]
    }
   ],
   "source": [
    "y_pred_train = lasso_reg_model.predict(x_train)\n",
    "\n",
    "mse = mean_squared_error(y_train, y_pred_train)\n",
    "print(\"MSE :\",mse)\n",
    "\n",
    "rmse = np.sqrt(mse)\n",
    "print(\"RMSE :\",rmse)\n",
    "\n",
    "mae = mean_absolute_error(y_train, y_pred_train)\n",
    "print(\"MAE :\",mae)\n",
    "\n",
    "Training_Lasso_Grid_Accuracy_r2 = r2_score(y_train, y_pred_train)\n",
    "print(\"Training Lasso Grid Accuracy :\", Training_Lasso_Grid_Accuracy_r2)"
   ]
  },
  {
   "cell_type": "markdown",
   "id": "f773c2f1",
   "metadata": {},
   "source": [
    "### Testing Data"
   ]
  },
  {
   "cell_type": "code",
   "execution_count": 143,
   "id": "f0aeef08",
   "metadata": {},
   "outputs": [
    {
     "name": "stdout",
     "output_type": "stream",
     "text": [
      "MSE : 1296968.1745680657\n",
      "RMSE : 1138.8451056083377\n",
      "MAE : 860.513517372222\n",
      "Testing Lasso Grid Accuracy : 0.5541817518697667\n"
     ]
    }
   ],
   "source": [
    "y_pred_test = lasso_reg_model.predict(x_test)\n",
    "\n",
    "mse = mean_squared_error(y_test, y_pred_test)\n",
    "print(\"MSE :\",mse)\n",
    "\n",
    "rmse = np.sqrt(mse)\n",
    "print(\"RMSE :\",rmse)\n",
    "\n",
    "mae = mean_absolute_error(y_test, y_pred_test)\n",
    "print(\"MAE :\",mae)\n",
    "\n",
    "Testing_Lasso_Grid_Accuracy_r2 = r2_score(y_test, y_pred_test)\n",
    "print(\"Testing Lasso Grid Accuracy :\", Testing_Lasso_Grid_Accuracy_r2)"
   ]
  },
  {
   "cell_type": "markdown",
   "id": "9afc6729",
   "metadata": {},
   "source": [
    "## 2.RandomizedSearchCV"
   ]
  },
  {
   "cell_type": "code",
   "execution_count": 144,
   "id": "12c2ef95",
   "metadata": {},
   "outputs": [
    {
     "data": {
      "text/plain": [
       "RandomizedSearchCV(estimator=Lasso(), n_jobs=-1,\n",
       "                   param_distributions={'alpha': array([0.01, 0.02, 0.03, 0.04, 0.05, 0.06, 0.07, 0.08, 0.09, 0.1 , 0.11,\n",
       "       0.12, 0.13, 0.14, 0.15, 0.16, 0.17, 0.18, 0.19, 0.2 , 0.21, 0.22,\n",
       "       0.23, 0.24, 0.25, 0.26, 0.27, 0.28, 0.29, 0.3 , 0.31, 0.32, 0.33,\n",
       "       0.34, 0.35, 0.36, 0.37, 0.38, 0.39, 0.4 , 0.41, 0.42, 0.43, 0.44,\n",
       "       0.45, 0.46, 0.47, 0.48, 0.49, 0.5 , 0.51, 0.52, 0.53, 0.54, 0....\n",
       "       2.21, 2.22, 2.23, 2.24, 2.25, 2.26, 2.27, 2.28, 2.29, 2.3 , 2.31,\n",
       "       2.32, 2.33, 2.34, 2.35, 2.36, 2.37, 2.38, 2.39, 2.4 , 2.41, 2.42,\n",
       "       2.43, 2.44, 2.45, 2.46, 2.47, 2.48, 2.49, 2.5 , 2.51, 2.52, 2.53,\n",
       "       2.54, 2.55, 2.56, 2.57, 2.58, 2.59, 2.6 , 2.61, 2.62, 2.63, 2.64,\n",
       "       2.65, 2.66, 2.67, 2.68, 2.69, 2.7 , 2.71, 2.72, 2.73, 2.74, 2.75,\n",
       "       2.76, 2.77, 2.78, 2.79, 2.8 , 2.81, 2.82, 2.83, 2.84, 2.85, 2.86,\n",
       "       2.87, 2.88, 2.89, 2.9 , 2.91, 2.92, 2.93, 2.94, 2.95, 2.96, 2.97,\n",
       "       2.98, 2.99])})"
      ]
     },
     "execution_count": 144,
     "metadata": {},
     "output_type": "execute_result"
    }
   ],
   "source": [
    "lasso_model = Lasso()\n",
    "\n",
    "param_grid = {\"alpha\": np.arange(0.01,3,0.01)}\n",
    "\n",
    "rscv_lasso_model = RandomizedSearchCV(lasso_model, param_grid, n_jobs=-1)\n",
    "\n",
    "rscv_lasso_model.fit(x_train, y_train)"
   ]
  },
  {
   "cell_type": "code",
   "execution_count": 145,
   "id": "a65ce710",
   "metadata": {},
   "outputs": [
    {
     "data": {
      "text/plain": [
       "Lasso(alpha=2.73)"
      ]
     },
     "execution_count": 145,
     "metadata": {},
     "output_type": "execute_result"
    }
   ],
   "source": [
    "rscv_lasso_model.best_estimator_"
   ]
  },
  {
   "cell_type": "code",
   "execution_count": 146,
   "id": "f84d0f3e",
   "metadata": {},
   "outputs": [
    {
     "data": {
      "text/plain": [
       "Lasso(alpha=2.76)"
      ]
     },
     "execution_count": 146,
     "metadata": {},
     "output_type": "execute_result"
    }
   ],
   "source": [
    "lasso_reg_model = Lasso(alpha= 2.76)  \n",
    "lasso_reg_model.fit(x_train, y_train)"
   ]
  },
  {
   "cell_type": "markdown",
   "id": "5957b424",
   "metadata": {},
   "source": [
    "# Model evaluation"
   ]
  },
  {
   "cell_type": "markdown",
   "id": "244cc09e",
   "metadata": {},
   "source": [
    "### Training Data"
   ]
  },
  {
   "cell_type": "code",
   "execution_count": 147,
   "id": "8498c804",
   "metadata": {},
   "outputs": [
    {
     "name": "stdout",
     "output_type": "stream",
     "text": [
      "MSE : 1263891.9800700126\n",
      "RMSE : 1124.2295050700336\n",
      "MAE : 827.3015423064844\n",
      "Training Lasso Random Accuracy : 0.5660709857594146\n"
     ]
    }
   ],
   "source": [
    "y_pred_train = lasso_reg_model.predict(x_train)\n",
    "\n",
    "mse = mean_squared_error(y_train, y_pred_train)\n",
    "print(\"MSE :\",mse)\n",
    "\n",
    "rmse = np.sqrt(mse)\n",
    "print(\"RMSE :\",rmse)\n",
    "\n",
    "mae = mean_absolute_error(y_train, y_pred_train)\n",
    "print(\"MAE :\",mae)\n",
    "\n",
    "Training_Lasso_Random_Accuracy_r2 = r2_score(y_train, y_pred_train)\n",
    "print(\"Training Lasso Random Accuracy :\", Training_Lasso_Random_Accuracy_r2)"
   ]
  },
  {
   "cell_type": "markdown",
   "id": "72a2f5da",
   "metadata": {},
   "source": [
    "## Testing Data"
   ]
  },
  {
   "cell_type": "code",
   "execution_count": 148,
   "id": "8f20ac27",
   "metadata": {},
   "outputs": [
    {
     "name": "stdout",
     "output_type": "stream",
     "text": [
      "MSE : 1296847.049821444\n",
      "RMSE : 1138.7919256042537\n",
      "MAE : 860.5119150046296\n",
      "Testing Lasso Random Accuracy : 0.5542233871414742\n"
     ]
    }
   ],
   "source": [
    "y_pred_test = lasso_reg_model.predict(x_test)\n",
    "\n",
    "mse = mean_squared_error(y_test, y_pred_test)\n",
    "print(\"MSE :\",mse)\n",
    "\n",
    "rmse = np.sqrt(mse)\n",
    "print(\"RMSE :\",rmse)\n",
    "\n",
    "mae = mean_absolute_error(y_test, y_pred_test)\n",
    "print(\"MAE :\",mae)\n",
    "\n",
    "Testing_Lasso_Random_Accuracy_r2 = r2_score(y_test, y_pred_test)\n",
    "print(\"Testing Lasso Random Accuracy :\", Testing_Lasso_Random_Accuracy_r2)"
   ]
  },
  {
   "cell_type": "raw",
   "id": "8b199d05",
   "metadata": {},
   "source": [
    "THe training Accuracy is 56.60% and the Testing Accuracy is 55.42\n",
    "(almost same in all linear, Ridge and Lasso Regression model)...\n",
    "The difference between the training and testing acuracy is less than 1 %...\n"
   ]
  },
  {
   "cell_type": "markdown",
   "id": "c9a872d7",
   "metadata": {},
   "source": [
    "## Testing for user input values"
   ]
  },
  {
   "cell_type": "code",
   "execution_count": 149,
   "id": "bc9aacab",
   "metadata": {},
   "outputs": [
    {
     "data": {
      "text/html": [
       "<div>\n",
       "<style scoped>\n",
       "    .dataframe tbody tr th:only-of-type {\n",
       "        vertical-align: middle;\n",
       "    }\n",
       "\n",
       "    .dataframe tbody tr th {\n",
       "        vertical-align: top;\n",
       "    }\n",
       "\n",
       "    .dataframe thead th {\n",
       "        text-align: right;\n",
       "    }\n",
       "</style>\n",
       "<table border=\"1\" class=\"dataframe\">\n",
       "  <thead>\n",
       "    <tr style=\"text-align: right;\">\n",
       "      <th></th>\n",
       "      <th>0</th>\n",
       "    </tr>\n",
       "  </thead>\n",
       "  <tbody>\n",
       "    <tr>\n",
       "      <th>Item_Weight</th>\n",
       "      <td>9.300000</td>\n",
       "    </tr>\n",
       "    <tr>\n",
       "      <th>Item_Fat_Content</th>\n",
       "      <td>0.000000</td>\n",
       "    </tr>\n",
       "    <tr>\n",
       "      <th>Item_Visibility</th>\n",
       "      <td>0.016047</td>\n",
       "    </tr>\n",
       "    <tr>\n",
       "      <th>Item_MRP</th>\n",
       "      <td>249.809200</td>\n",
       "    </tr>\n",
       "    <tr>\n",
       "      <th>Outlet_Establishment_Year</th>\n",
       "      <td>1999.000000</td>\n",
       "    </tr>\n",
       "    <tr>\n",
       "      <th>Outlet_Size</th>\n",
       "      <td>1.000000</td>\n",
       "    </tr>\n",
       "    <tr>\n",
       "      <th>Outlet_Location_Type</th>\n",
       "      <td>1.000000</td>\n",
       "    </tr>\n",
       "    <tr>\n",
       "      <th>Item_Type_Baking Goods</th>\n",
       "      <td>0.000000</td>\n",
       "    </tr>\n",
       "    <tr>\n",
       "      <th>Item_Type_Breads</th>\n",
       "      <td>0.000000</td>\n",
       "    </tr>\n",
       "    <tr>\n",
       "      <th>Item_Type_Breakfast</th>\n",
       "      <td>0.000000</td>\n",
       "    </tr>\n",
       "    <tr>\n",
       "      <th>Item_Type_Canned</th>\n",
       "      <td>0.000000</td>\n",
       "    </tr>\n",
       "    <tr>\n",
       "      <th>Item_Type_Dairy</th>\n",
       "      <td>1.000000</td>\n",
       "    </tr>\n",
       "    <tr>\n",
       "      <th>Item_Type_Frozen Foods</th>\n",
       "      <td>0.000000</td>\n",
       "    </tr>\n",
       "    <tr>\n",
       "      <th>Item_Type_Fruits and Vegetables</th>\n",
       "      <td>0.000000</td>\n",
       "    </tr>\n",
       "    <tr>\n",
       "      <th>Item_Type_Hard Drinks</th>\n",
       "      <td>0.000000</td>\n",
       "    </tr>\n",
       "    <tr>\n",
       "      <th>Item_Type_Health and Hygiene</th>\n",
       "      <td>0.000000</td>\n",
       "    </tr>\n",
       "    <tr>\n",
       "      <th>Item_Type_Household</th>\n",
       "      <td>0.000000</td>\n",
       "    </tr>\n",
       "    <tr>\n",
       "      <th>Item_Type_Meat</th>\n",
       "      <td>0.000000</td>\n",
       "    </tr>\n",
       "    <tr>\n",
       "      <th>Item_Type_Others</th>\n",
       "      <td>0.000000</td>\n",
       "    </tr>\n",
       "    <tr>\n",
       "      <th>Item_Type_Seafood</th>\n",
       "      <td>0.000000</td>\n",
       "    </tr>\n",
       "    <tr>\n",
       "      <th>Item_Type_Snack Foods</th>\n",
       "      <td>0.000000</td>\n",
       "    </tr>\n",
       "    <tr>\n",
       "      <th>Item_Type_Soft Drinks</th>\n",
       "      <td>0.000000</td>\n",
       "    </tr>\n",
       "    <tr>\n",
       "      <th>Item_Type_Starchy Foods</th>\n",
       "      <td>0.000000</td>\n",
       "    </tr>\n",
       "    <tr>\n",
       "      <th>Outlet_Identifier_OUT010</th>\n",
       "      <td>0.000000</td>\n",
       "    </tr>\n",
       "    <tr>\n",
       "      <th>Outlet_Identifier_OUT013</th>\n",
       "      <td>0.000000</td>\n",
       "    </tr>\n",
       "    <tr>\n",
       "      <th>Outlet_Identifier_OUT017</th>\n",
       "      <td>0.000000</td>\n",
       "    </tr>\n",
       "    <tr>\n",
       "      <th>Outlet_Identifier_OUT018</th>\n",
       "      <td>0.000000</td>\n",
       "    </tr>\n",
       "    <tr>\n",
       "      <th>Outlet_Identifier_OUT019</th>\n",
       "      <td>0.000000</td>\n",
       "    </tr>\n",
       "    <tr>\n",
       "      <th>Outlet_Identifier_OUT027</th>\n",
       "      <td>0.000000</td>\n",
       "    </tr>\n",
       "    <tr>\n",
       "      <th>Outlet_Identifier_OUT035</th>\n",
       "      <td>0.000000</td>\n",
       "    </tr>\n",
       "    <tr>\n",
       "      <th>Outlet_Identifier_OUT045</th>\n",
       "      <td>0.000000</td>\n",
       "    </tr>\n",
       "    <tr>\n",
       "      <th>Outlet_Identifier_OUT046</th>\n",
       "      <td>0.000000</td>\n",
       "    </tr>\n",
       "    <tr>\n",
       "      <th>Outlet_Identifier_OUT049</th>\n",
       "      <td>1.000000</td>\n",
       "    </tr>\n",
       "    <tr>\n",
       "      <th>Outlet_Type_Grocery Store</th>\n",
       "      <td>0.000000</td>\n",
       "    </tr>\n",
       "    <tr>\n",
       "      <th>Outlet_Type_Supermarket Type1</th>\n",
       "      <td>1.000000</td>\n",
       "    </tr>\n",
       "    <tr>\n",
       "      <th>Outlet_Type_Supermarket Type2</th>\n",
       "      <td>0.000000</td>\n",
       "    </tr>\n",
       "    <tr>\n",
       "      <th>Outlet_Type_Supermarket Type3</th>\n",
       "      <td>0.000000</td>\n",
       "    </tr>\n",
       "  </tbody>\n",
       "</table>\n",
       "</div>"
      ],
      "text/plain": [
       "                                           0\n",
       "Item_Weight                         9.300000\n",
       "Item_Fat_Content                    0.000000\n",
       "Item_Visibility                     0.016047\n",
       "Item_MRP                          249.809200\n",
       "Outlet_Establishment_Year        1999.000000\n",
       "Outlet_Size                         1.000000\n",
       "Outlet_Location_Type                1.000000\n",
       "Item_Type_Baking Goods              0.000000\n",
       "Item_Type_Breads                    0.000000\n",
       "Item_Type_Breakfast                 0.000000\n",
       "Item_Type_Canned                    0.000000\n",
       "Item_Type_Dairy                     1.000000\n",
       "Item_Type_Frozen Foods              0.000000\n",
       "Item_Type_Fruits and Vegetables     0.000000\n",
       "Item_Type_Hard Drinks               0.000000\n",
       "Item_Type_Health and Hygiene        0.000000\n",
       "Item_Type_Household                 0.000000\n",
       "Item_Type_Meat                      0.000000\n",
       "Item_Type_Others                    0.000000\n",
       "Item_Type_Seafood                   0.000000\n",
       "Item_Type_Snack Foods               0.000000\n",
       "Item_Type_Soft Drinks               0.000000\n",
       "Item_Type_Starchy Foods             0.000000\n",
       "Outlet_Identifier_OUT010            0.000000\n",
       "Outlet_Identifier_OUT013            0.000000\n",
       "Outlet_Identifier_OUT017            0.000000\n",
       "Outlet_Identifier_OUT018            0.000000\n",
       "Outlet_Identifier_OUT019            0.000000\n",
       "Outlet_Identifier_OUT027            0.000000\n",
       "Outlet_Identifier_OUT035            0.000000\n",
       "Outlet_Identifier_OUT045            0.000000\n",
       "Outlet_Identifier_OUT046            0.000000\n",
       "Outlet_Identifier_OUT049            1.000000\n",
       "Outlet_Type_Grocery Store           0.000000\n",
       "Outlet_Type_Supermarket Type1       1.000000\n",
       "Outlet_Type_Supermarket Type2       0.000000\n",
       "Outlet_Type_Supermarket Type3       0.000000"
      ]
     },
     "execution_count": 149,
     "metadata": {},
     "output_type": "execute_result"
    }
   ],
   "source": [
    "x.head(1).T \n",
    "\n"
   ]
  },
  {
   "cell_type": "code",
   "execution_count": 150,
   "id": "57bede25",
   "metadata": {},
   "outputs": [],
   "source": [
    "column_names = x.columns \n",
    "# column_names"
   ]
  },
  {
   "cell_type": "code",
   "execution_count": 151,
   "id": "f51d9a5c",
   "metadata": {},
   "outputs": [],
   "source": [
    "# create picke file\n",
    "import pickle\n",
    "\n",
    "with open(\"linear_model_SALES_DATA.pkl\", \"wb\") as f:\n",
    "    pickle.dump(model, f)"
   ]
  },
  {
   "cell_type": "code",
   "execution_count": 152,
   "id": "0bd7ba33",
   "metadata": {},
   "outputs": [],
   "source": [
    "# item_Fat_Content_select \n",
    "# outlet_Establishment_Year_select\n",
    "# outlet_Size_select \n",
    "# outlet_Location_Type_select\n"
   ]
  },
  {
   "cell_type": "code",
   "execution_count": 153,
   "id": "17b33c9d",
   "metadata": {},
   "outputs": [
    {
     "data": {
      "text/plain": [
       "{'item_Fat_Content_select': {'Low Fat': 0,\n",
       "  'Regular': 1,\n",
       "  'LF': 0,\n",
       "  'reg': 1,\n",
       "  'low fat': 0},\n",
       " 'outlet_Establishment_Year_select': {'1985': 38,\n",
       "  '1987': 36,\n",
       "  '1999': 24,\n",
       "  '1997': 26,\n",
       "  '2004': 19,\n",
       "  '2002': 21,\n",
       "  '2009': 14,\n",
       "  '2007': 16,\n",
       "  '1998': 25},\n",
       " 'outlet_Size_select ': {'Medium': 1, 'Small': 0, 'High': 2},\n",
       " 'outlet_Location_Type_select': {'Tier 3': 3, 'Tier 2': 2, 'Tier 1': 1},\n",
       " 'column_names': ['Item_Weight',\n",
       "  'Item_Fat_Content',\n",
       "  'Item_Visibility',\n",
       "  'Item_MRP',\n",
       "  'Outlet_Establishment_Year',\n",
       "  'Outlet_Size',\n",
       "  'Outlet_Location_Type',\n",
       "  'Item_Type_Baking Goods',\n",
       "  'Item_Type_Breads',\n",
       "  'Item_Type_Breakfast',\n",
       "  'Item_Type_Canned',\n",
       "  'Item_Type_Dairy',\n",
       "  'Item_Type_Frozen Foods',\n",
       "  'Item_Type_Fruits and Vegetables',\n",
       "  'Item_Type_Hard Drinks',\n",
       "  'Item_Type_Health and Hygiene',\n",
       "  'Item_Type_Household',\n",
       "  'Item_Type_Meat',\n",
       "  'Item_Type_Others',\n",
       "  'Item_Type_Seafood',\n",
       "  'Item_Type_Snack Foods',\n",
       "  'Item_Type_Soft Drinks',\n",
       "  'Item_Type_Starchy Foods',\n",
       "  'Outlet_Identifier_OUT010',\n",
       "  'Outlet_Identifier_OUT013',\n",
       "  'Outlet_Identifier_OUT017',\n",
       "  'Outlet_Identifier_OUT018',\n",
       "  'Outlet_Identifier_OUT019',\n",
       "  'Outlet_Identifier_OUT027',\n",
       "  'Outlet_Identifier_OUT035',\n",
       "  'Outlet_Identifier_OUT045',\n",
       "  'Outlet_Identifier_OUT046',\n",
       "  'Outlet_Identifier_OUT049',\n",
       "  'Outlet_Type_Grocery Store',\n",
       "  'Outlet_Type_Supermarket Type1',\n",
       "  'Outlet_Type_Supermarket Type2',\n",
       "  'Outlet_Type_Supermarket Type3']}"
      ]
     },
     "execution_count": 153,
     "metadata": {},
     "output_type": "execute_result"
    }
   ],
   "source": [
    "# Saving the dictionaries and column names list in JSON format\n",
    "\n",
    "data_save_json = {\"item_Fat_Content_select\" : item_Fat_Content_select,\n",
    "                       \"outlet_Establishment_Year_select\" : outlet_Establishment_Year_select,\n",
    "                            \"outlet_Size_select \" : outlet_Size_select,      # space add ahe so be care full\n",
    "                                  \"outlet_Location_Type_select\" : outlet_Location_Type_select,\n",
    "                                       \"column_names\" : list(column_names)}\n",
    "data_save_json"
   ]
  },
  {
   "cell_type": "code",
   "execution_count": 154,
   "id": "d7f1af8a",
   "metadata": {},
   "outputs": [],
   "source": [
    "# create jason file\n",
    "\n",
    "import json\n",
    "\n",
    "with open(\"PROJECT_SALES_DATA.json\", \"w\") as f:\n",
    "    json.dump(data_save_json, f)"
   ]
  },
  {
   "cell_type": "markdown",
   "id": "5dd4b353",
   "metadata": {},
   "source": [
    "# user entered values"
   ]
  },
  {
   "cell_type": "code",
   "execution_count": 155,
   "id": "3b999695",
   "metadata": {},
   "outputs": [],
   "source": [
    "Item_Weight = 9.3 \n",
    "Item_Fat_Content = 'Regular'\n",
    "Item_Visibility = 0.016047\n",
    "Item_MRP = 249.80\n",
    "Outlet_Establishment_Year = '1985'\n",
    "Outlet_Size = \"Medium\"\n",
    "Outlet_Location_Type = \"Tier 2\"\n",
    "\n",
    "Item_Type = 'Snack Foods'\n",
    "Outlet_Identifier = 'OUT049'\n",
    "Outlet_Type = 'Supermarket Type2' "
   ]
  },
  {
   "cell_type": "code",
   "execution_count": 156,
   "id": "f0590669",
   "metadata": {},
   "outputs": [
    {
     "data": {
      "text/plain": [
       "array([0, 0, 0, 0, 0, 0, 0, 0, 0, 0, 0, 0, 0, 0, 0, 0, 0, 0, 0, 0, 0, 0,\n",
       "       0, 0, 0, 0, 0, 0, 0, 0, 0, 0, 0, 0, 0, 0, 0])"
      ]
     },
     "execution_count": 156,
     "metadata": {},
     "output_type": "execute_result"
    }
   ],
   "source": [
    "array = np.zeros(len(x.columns), dtype = int)  \n",
    "array"
   ]
  },
  {
   "cell_type": "code",
   "execution_count": 157,
   "id": "84da5bf8",
   "metadata": {},
   "outputs": [
    {
     "data": {
      "text/plain": [
       "'Outlet_Identifier_OUT049'"
      ]
     },
     "execution_count": 157,
     "metadata": {},
     "output_type": "execute_result"
    }
   ],
   "source": [
    "\n",
    "Item_Type_col = 'Item_Type_' + Item_Type\n",
    "Outlet_Identifier_col = 'Outlet_Identifier_' + Outlet_Identifier\n",
    "Outlet_Type_col = 'Outlet_Type_' + Outlet_Type\n",
    "Outlet_Identifier_col"
   ]
  },
  {
   "cell_type": "code",
   "execution_count": 158,
   "id": "575c0ae4",
   "metadata": {},
   "outputs": [
    {
     "data": {
      "text/plain": [
       "35"
      ]
     },
     "execution_count": 158,
     "metadata": {},
     "output_type": "execute_result"
    }
   ],
   "source": [
    "Item_Type_index = np.where(column_names == Item_Type_col)[0][0]\n",
    "Outlet_Identifier_index = np.where(column_names == Outlet_Identifier_col)[0][0]\n",
    "Outlet_Type_index = np.where(column_names == Outlet_Type_col)[0][0]\n",
    "Outlet_Type_index"
   ]
  },
  {
   "cell_type": "code",
   "execution_count": 159,
   "id": "14394037",
   "metadata": {},
   "outputs": [
    {
     "data": {
      "text/plain": [
       "1"
      ]
     },
     "execution_count": 159,
     "metadata": {},
     "output_type": "execute_result"
    }
   ],
   "source": [
    "# data_save_json[\"item_Fat_Content_select\"][Item_Fat_Content]\n",
    "# data_save_json[\"outlet_Establishment_Year_select\"][Outlet_Establishment_Year]\n",
    "data_save_json[\"outlet_Size_select \"][Outlet_Size]  # space add ahe so be care full\n",
    "# data_save_json[\"outlet_Location_Type_select\"][Outlet_Location_Type]"
   ]
  },
  {
   "cell_type": "code",
   "execution_count": 160,
   "id": "f6961d39",
   "metadata": {},
   "outputs": [
    {
     "data": {
      "text/plain": [
       "array([  9,   1,   0, 249,  38,   1,   2,   0,   0,   0,   0,   0,   0,\n",
       "         0,   0,   0,   0,   0,   0,   0,   1,   0,   0,   0,   0,   0,\n",
       "         0,   0,   0,   0,   0,   0,   1,   0,   0,   1,   0])"
      ]
     },
     "execution_count": 160,
     "metadata": {},
     "output_type": "execute_result"
    }
   ],
   "source": [
    "array[0] = Item_Weight\n",
    "array[1] = data_save_json[\"item_Fat_Content_select\"][Item_Fat_Content]\n",
    "array[2] = Item_Visibility\n",
    "array[3] = Item_MRP \n",
    "array[4] = data_save_json[\"outlet_Establishment_Year_select\"][Outlet_Establishment_Year]\n",
    "array[5] = data_save_json[\"outlet_Size_select \"][Outlet_Size]     # space add ahe so be care full\n",
    "array[6] = data_save_json[\"outlet_Location_Type_select\"][Outlet_Location_Type]\n",
    "\n",
    "array[Item_Type_index] = 1 \n",
    "array[Outlet_Identifier_index] = 1 \n",
    "array[Outlet_Type_index] = 1\n",
    "array"
   ]
  },
  {
   "cell_type": "code",
   "execution_count": 161,
   "id": "bed970b6",
   "metadata": {},
   "outputs": [
    {
     "name": "stdout",
     "output_type": "stream",
     "text": [
      "The TOTAL SALES of an ITEM in a givenby outlates or store would be : 16584 item sales\n"
     ]
    }
   ],
   "source": [
    "sales = model.predict([array])[0]\n",
    "print(\"The TOTAL SALES of an ITEM in a givenby outlates or store would be :\", int(sales),\"item sales\")"
   ]
  },
  {
   "cell_type": "code",
   "execution_count": 162,
   "id": "82e340cf",
   "metadata": {},
   "outputs": [
    {
     "data": {
      "text/plain": [
       "1"
      ]
     },
     "execution_count": 162,
     "metadata": {},
     "output_type": "execute_result"
    }
   ],
   "source": [
    "\n",
    "# data_save_json[\"outlet_Location_Type_select\"][Outlet_Location_Type]\n",
    "data_save_json[\"item_Fat_Content_select\"][Item_Fat_Content]\n"
   ]
  },
  {
   "cell_type": "code",
   "execution_count": 163,
   "id": "f694e6d2",
   "metadata": {},
   "outputs": [
    {
     "data": {
      "text/plain": [
       "1"
      ]
     },
     "execution_count": 163,
     "metadata": {},
     "output_type": "execute_result"
    }
   ],
   "source": [
    "data_save_json[\"outlet_Size_select \"][Outlet_Size]\n"
   ]
  },
  {
   "cell_type": "raw",
   "id": "f220ae4b",
   "metadata": {},
   "source": [
    "# raw work\n",
    "\n",
    "Item_Weight \n",
    "Item_Fat_Content \n",
    "Item_Visibility \n",
    "Item_MRP \n",
    "Outlet_Establishment_Year\n",
    "Outlet_Size \n",
    "Outlet_Location_Type \n",
    "\n",
    "Item_Type \n",
    "Outlet_Identifier\n",
    "Outlet_Type  \n",
    "\n",
    "Item_Weight,Item_Fat_Content,Item_Visibility,Item_MRP,Outlet_Establishment_Year,Outlet_Size,Outlet_Location_Type,Item_Type,Outlet_Identifier,Outlet_Type  "
   ]
  },
  {
   "cell_type": "code",
   "execution_count": 164,
   "id": "fc3fd0da",
   "metadata": {},
   "outputs": [
    {
     "data": {
      "text/plain": [
       "1"
      ]
     },
     "execution_count": 164,
     "metadata": {},
     "output_type": "execute_result"
    }
   ],
   "source": [
    "data_save_json[\"item_Fat_Content_select\"][Item_Fat_Content]"
   ]
  },
  {
   "cell_type": "code",
   "execution_count": 165,
   "id": "7ccf59e4",
   "metadata": {},
   "outputs": [
    {
     "data": {
      "text/plain": [
       "1"
      ]
     },
     "execution_count": 165,
     "metadata": {},
     "output_type": "execute_result"
    }
   ],
   "source": [
    "data_save_json[\"outlet_Size_select \"][Outlet_Size]"
   ]
  },
  {
   "cell_type": "code",
   "execution_count": null,
   "id": "ba67f8da",
   "metadata": {},
   "outputs": [],
   "source": []
  }
 ],
 "metadata": {
  "kernelspec": {
   "display_name": "Python 3 (ipykernel)",
   "language": "python",
   "name": "python3"
  },
  "language_info": {
   "codemirror_mode": {
    "name": "ipython",
    "version": 3
   },
   "file_extension": ".py",
   "mimetype": "text/x-python",
   "name": "python",
   "nbconvert_exporter": "python",
   "pygments_lexer": "ipython3",
   "version": "3.9.13"
  }
 },
 "nbformat": 4,
 "nbformat_minor": 5
}
